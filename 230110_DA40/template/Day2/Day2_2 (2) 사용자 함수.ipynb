{
 "cells": [
  {
   "cell_type": "markdown",
   "metadata": {
    "id": "WhFqNVJaAONj"
   },
   "source": [
    "# 사용자 정의 함수 \n"
   ]
  },
  {
   "cell_type": "markdown",
   "metadata": {
    "id": "KvD02_lFAONl"
   },
   "source": [
    "##  **1. 함수 정의하기**\n",
    "  + 1) def ->  함수를 정의 할 때 최초에 사용하는 키워드, definition 이라는 의미\n",
    "  \n",
    "  + 2) 함수이름 -> 어떤 기능을 하는 함수인지 잘 알수 있도록 이름설정 \n",
    "       + ex) get_member_information (ID, name)\n",
    "       \n",
    "  + 3) 전달인자 정의 -> 함수에 입력으로 전달하는 값, 괄호안에 콤마로 구분하여 적어줌.\n",
    "       + (argument, parameter, 인수 라고도 함)\n",
    "       \n",
    "  + 4) : (콜론) -> 함수 역시 코드 블록이기 때문에 콜론(:)을 하고 코드 작성 시작!\n",
    "  \n",
    "  + 5) 함수 바디 (body) -> 함수의 코드 블록 부분, \n",
    "       + 들여쓰기 된 부분만 함수의 코드블록으로 인지 함!\n",
    "       \n",
    "  + 6) return -> 함수가 수행한 결과값을 전달(출력)하기 위해 사용하는 키워드\n",
    "  "
   ]
  },
  {
   "cell_type": "raw",
   "metadata": {
    "id": "LF3qv33TAONl"
   },
   "source": [
    "#1단계. 함수 정의 - 내장함수가 아니라면 먼저 함수를 '정의'해 주어야 함!\n",
    "\n",
    "#두 값을 더하는 함수 add를 만들어 보자!\n",
    "\n",
    "def myadd(x, y):\n",
    "    n = x + y\n",
    "    return n  "
   ]
  },
  {
   "cell_type": "code",
   "execution_count": null,
   "metadata": {},
   "outputs": [],
   "source": []
  },
  {
   "cell_type": "raw",
   "metadata": {
    "id": "C6zujzd_AONm"
   },
   "source": [
    "#2단계. 함수 사용 - myadd 함수를 사용(호출)하여 두 값의 합을 얻어 보자!\n",
    "\n",
    "c = myadd(30, 300)\n",
    "c"
   ]
  },
  {
   "cell_type": "code",
   "execution_count": null,
   "metadata": {},
   "outputs": [],
   "source": []
  },
  {
   "cell_type": "raw",
   "metadata": {
    "id": "a13gyXRlAONn"
   },
   "source": [
    "# add 함수 호출시 전달인자를 3개로 해도 될까?   --> 안.됨!\n",
    "# 전달인자는 반.드.시. 함수를 정의 (def)할 때 정한 갯수와 일치되게 사용해야 함!\n",
    "\n",
    "add(30, 300, 300)    # 에러!"
   ]
  },
  {
   "cell_type": "raw",
   "metadata": {},
   "source": [
    "1) 두 전달인자를 받아서 더한 값과 뺀 값을 모두 리턴하는 함수 'plus_minus'를 만들어 보자!\n",
    "2) plus_minus(3, 5)를 실행해 보자\n",
    "\n",
    "(직접 해 봅시다!)"
   ]
  },
  {
   "cell_type": "code",
   "execution_count": null,
   "metadata": {},
   "outputs": [],
   "source": []
  },
  {
   "cell_type": "raw",
   "metadata": {},
   "source": [
    "1) plus_minus(3, 5)의 실행결과를 각각 변수 a,b에 저장해 보자\n",
    "2) a,b를 출력해 보자\n",
    "\n",
    "(직접 해 봅시다!)"
   ]
  },
  {
   "cell_type": "code",
   "execution_count": null,
   "metadata": {},
   "outputs": [],
   "source": []
  },
  {
   "cell_type": "markdown",
   "metadata": {
    "id": "FwjpKD5mAONn"
   },
   "source": [
    "## **2. 함수명 작성(naming)**\n",
    "  * 함수 이름으로부터 기능이 유추될 수 있도록 작성함. \n",
    "  * 의미와 반대되거나 맞지 않는 이름은 지양!"
   ]
  },
  {
   "cell_type": "raw",
   "metadata": {
    "id": "Ysu7jSoWAONo"
   },
   "source": [
    "# 함수명으로 부터 그 기능이 유추될 수 있도록!\n",
    "\n",
    "def add (x, y):\n",
    "    sub = x - y\n",
    "    return sub\n",
    "\n",
    "print(add(4, 3))"
   ]
  },
  {
   "cell_type": "code",
   "execution_count": null,
   "metadata": {},
   "outputs": [],
   "source": []
  },
  {
   "cell_type": "markdown",
   "metadata": {
    "id": "oXbWASQxAONo"
   },
   "source": [
    "## **3. 전달인자 (argument, parameter)**\n",
    " + 함수에 전달되는 입력값(input)\n",
    " + 전달인자는 없을 수도 있고, 1개, 2개, 여러개일 수도 있음\n",
    " + 전달인자는 int, string, float, boolm, list, dict 등 파이썬의 모든 데이터 타입이 가능!\n",
    " + 심지어, 함수자체도 함수의 파라미터로 전달 가능 -> 이때는 함수의 결과값이 전달인자가 됨!\n",
    " + 함수 생성 시 전달인자 별로 의도된 데이터 타입에 맞게 함수 호출시에도 전달해야 하며,\n",
    " + 그 순서도 전달인자가 정의된 순서에 따라 전달해야 함!\n"
   ]
  },
  {
   "cell_type": "raw",
   "metadata": {
    "id": "FBpzmRPeAONo"
   },
   "source": [
    "# 전달인자가 없는 함수의 예\n",
    "\n",
    "def test():\n",
    "    return 100\n",
    "\n",
    "a = test()\n",
    "print(a)"
   ]
  },
  {
   "cell_type": "code",
   "execution_count": null,
   "metadata": {},
   "outputs": [],
   "source": []
  },
  {
   "cell_type": "markdown",
   "metadata": {
    "id": "lqhdJPQaAONp"
   },
   "source": [
    "## **4. 기본 전달 인자 (default parameter)**\n",
    " + 함수의 파라미터 일부나 전부에 기본값(default)을 지정해 둘 수 있음\n",
    " + 함수 호출시 기본 파라미터를 생략하는 경우, 지정된 기본값으로 할당되어 수행됨"
   ]
  },
  {
   "cell_type": "raw",
   "metadata": {
    "id": "L48TFJiaAONp"
   },
   "source": [
    "# x값만 주고, y와 z는 기본값 사용\n",
    "\n",
    "def add(x, y=10, z=5):\n",
    "    a = x + y + z\n",
    "    return a\n",
    "\n",
    "add(10)"
   ]
  },
  {
   "cell_type": "code",
   "execution_count": null,
   "metadata": {},
   "outputs": [],
   "source": []
  },
  {
   "cell_type": "raw",
   "metadata": {
    "id": "uQD0H_SzAONp"
   },
   "source": [
    "# x, y값만 주고, z는 기본값 사용\n",
    "\n",
    "def add(x, y=10, z=5):\n",
    "    a = x + y + z\n",
    "    return a\n",
    "\n",
    "add(10, 1)"
   ]
  },
  {
   "cell_type": "code",
   "execution_count": null,
   "metadata": {},
   "outputs": [],
   "source": []
  },
  {
   "cell_type": "raw",
   "metadata": {
    "id": "yswsfjL6AONp"
   },
   "source": [
    "# x, z값만 주고, y는 기본값 사용\n",
    "\n",
    "def add(x, y=10, z=5):\n",
    "    a = x + y + z\n",
    "    return a\n",
    "\n",
    "add(10, z=1)           # add (10, , 1) 이라고 하면 안됨!"
   ]
  },
  {
   "cell_type": "code",
   "execution_count": null,
   "metadata": {},
   "outputs": [],
   "source": []
  },
  {
   "cell_type": "raw",
   "metadata": {
    "id": "T-zvaabhAONp"
   },
   "source": [
    "# x, y, z값 모두 주면 --> 기본값은 무시됨!\n",
    "\n",
    "def add(x, y=10, z=5):\n",
    "    a = x + y + z\n",
    "    return a\n",
    "\n",
    "add(10, 1, 2)"
   ]
  },
  {
   "cell_type": "code",
   "execution_count": null,
   "metadata": {},
   "outputs": [],
   "source": []
  },
  {
   "cell_type": "markdown",
   "metadata": {
    "id": "xoFU5NTWAONp"
   },
   "source": [
    "## **5. 기본 전달 인자 (default parameter)의 다른 예**\n",
    " - print 함수\n",
    "   - sep, end, file등 여러 기본 파라미터를 가짐 "
   ]
  },
  {
   "cell_type": "raw",
   "metadata": {
    "id": "_u8YxcACwJPF"
   },
   "source": [
    "'?print' 또는 'print'입력 후 shift +tab 으로 print함수의 사용법을 보자!"
   ]
  },
  {
   "cell_type": "code",
   "execution_count": 1,
   "metadata": {},
   "outputs": [],
   "source": [
    "print"
   ]
  },
  {
   "cell_type": "raw",
   "metadata": {
    "id": "yvns-kD7AONq"
   },
   "source": [
    "print(1, 2, 3)\n",
    "print(1, 2, 3, sep='!', end='%%%\\n')     \n",
    "print(2, 3, 4, sep='p')"
   ]
  },
  {
   "cell_type": "code",
   "execution_count": null,
   "metadata": {},
   "outputs": [],
   "source": []
  },
  {
   "cell_type": "markdown",
   "metadata": {
    "id": "ZYKkpeueAONq"
   },
   "source": [
    "## **6. 기본 전달 인자 (Default parameter) 정의할 때 주의 점  --> 위치!**\n",
    "  * 기본 전달 인자 뒤에 일반 전달인자가 위치할 수 없음\n",
    "  \n",
    "  * e.g) 올바른 예\n",
    "    > def test(a, b, c = 1)\n",
    "    \n",
    "    > def test(a, b = 1, c = 2)\n",
    "    \n",
    "    > def test(a = 1, b = 1, c = 3)\n",
    "    \n",
    "  * e.g) 올바르지 않은 예\n",
    "    > def test(a, b = 1, c)\n",
    "    \n",
    "    > def test(a = 1, b, c)\n",
    "    \n",
    "    > def test(a = 1, b = 1, c)"
   ]
  },
  {
   "cell_type": "raw",
   "metadata": {
    "id": "L4aa5qJwAONq"
   },
   "source": [
    "def test(a, b=3, c=4):     # 올바른 예\n",
    "    print(a, b, c)\n",
    "    \n",
    "test(10, 20, 1)"
   ]
  },
  {
   "cell_type": "code",
   "execution_count": null,
   "metadata": {},
   "outputs": [],
   "source": []
  },
  {
   "cell_type": "raw",
   "metadata": {
    "id": "T1Gs_bl-wfB_"
   },
   "source": [
    "def test(a, b=3, c):     # 만약 c가 기본 전달인자가 아니라면?  -> 에러\n",
    "    print(a, b, c)\n",
    "    \n",
    "test(10, 20, 1)"
   ]
  },
  {
   "cell_type": "code",
   "execution_count": null,
   "metadata": {},
   "outputs": [],
   "source": []
  },
  {
   "cell_type": "markdown",
   "metadata": {
    "id": "RFqhml6UAONq"
   },
   "source": [
    "## **7. 파라미터 순서**\n",
    "  * 파이썬의 경우, 파라미터에 값을 전달 할 때, 파라미터의 이름을 명시하여 전달 가능\n",
    "  * (일반적으로는 파라미터의 순서만 맞으면 이름을 명시할 필요가 없음!)"
   ]
  },
  {
   "cell_type": "raw",
   "metadata": {
    "id": "YHhgELvLAONr"
   },
   "source": [
    "def test(x, y, z):\n",
    "    a = x +2*y + 3*z\n",
    "    return a\n",
    "\n",
    "test(x=10, z=3, y=50)  # '전달인자 이름=값'의 형태이므로 순서 상관없음"
   ]
  },
  {
   "cell_type": "code",
   "execution_count": null,
   "metadata": {},
   "outputs": [],
   "source": []
  },
  {
   "cell_type": "raw",
   "metadata": {
    "id": "y-RGvHd4AONq"
   },
   "source": [
    "def test(x, y, z):\n",
    "    a = x +2*y + 3*z\n",
    "    return a\n",
    "\n",
    "test(10, 50, 3)    #  x, y, z 순서대로 매핑됨"
   ]
  },
  {
   "cell_type": "code",
   "execution_count": null,
   "metadata": {},
   "outputs": [],
   "source": []
  },
  {
   "cell_type": "raw",
   "metadata": {
    "id": "y-RGvHd4AONq"
   },
   "source": [
    "def test(x, y, z):\n",
    "    a = x +2*y + 3*z\n",
    "    return a\n",
    "\n",
    "test(x=10, y=50, z=3)    # 순서대로 전달할 경우에도, '전달인자 이름=값'의 형태로 해도 상관없음"
   ]
  },
  {
   "cell_type": "code",
   "execution_count": null,
   "metadata": {},
   "outputs": [],
   "source": []
  },
  {
   "cell_type": "markdown",
   "metadata": {
    "id": "7X9XLNLnAONr"
   },
   "source": [
    "## **8. return (리턴)**\n",
    " + 기본적으로 함수의 종료를 명시\n",
    "   + 1) return 옆에 값이나 수식이 있다면 --> 해당 값을 반환\n",
    "   + 2) return 만 존재하고 그 다음에 값을 쓰지 않으면 --> None 반환\n",
    "   + 2) return이 없는 경우, 함수 코드 블록이 종료되면 함수도 종료. \n",
    "       --> None 반환"
   ]
  },
  {
   "cell_type": "raw",
   "metadata": {
    "id": "rO0ODIA9AONr"
   },
   "source": [
    "# 1) \"return 값\" 의 형태\n",
    "\n",
    "def _multiply(x, y):\n",
    "    if x > 10:\n",
    "        return x * y\n",
    "    else :\n",
    "        return (x + 2) * y\n",
    "     \n",
    "    print(x + y)                 #return 이후의 코드 이므로 절대 수행되지 않음\n",
    "\n",
    "c = _multiply(12, 5)\n"
   ]
  },
  {
   "cell_type": "code",
   "execution_count": null,
   "metadata": {},
   "outputs": [],
   "source": []
  },
  {
   "cell_type": "raw",
   "metadata": {
    "id": "30siytOKAONr"
   },
   "source": [
    "# 2) \"return\"만 있는 형태 -> None 반환\n",
    "#10 이하일 경우만 동작하는 함수설정\n",
    "def _multiply(x, y):\n",
    "    if x > 10:\n",
    "        return \n",
    "    \n",
    "    else :\n",
    "        return (x + 2) * y\n",
    "\n",
    "c = _multiply(12, 5)\n",
    "print(c)"
   ]
  },
  {
   "cell_type": "code",
   "execution_count": null,
   "metadata": {},
   "outputs": [],
   "source": []
  },
  {
   "cell_type": "raw",
   "metadata": {
    "id": "9lQgwYzAAONr"
   },
   "source": [
    "# 3) return 도 없는 형태\n",
    "\n",
    "def _multiply(x, y):\n",
    "    if x > 10:\n",
    "        return x * y\n",
    "    \n",
    "c = _multiply(12, 5)     # (12,5)를 (2,5)로 변경해 보자!\n",
    "\n",
    "print(c)"
   ]
  },
  {
   "cell_type": "code",
   "execution_count": null,
   "metadata": {},
   "outputs": [],
   "source": []
  },
  {
   "cell_type": "markdown",
   "metadata": {
    "id": "MhaVo4zwAONs"
   },
   "source": [
    "## **9.  복수 값 반환 (multiple return)**\n",
    " + 입력 파라미터도 여러개 이듯이 출력 리턴값도 여러 개 일 수 있음\n",
    " + 튜플 형태로 복수개의 값을 반환함!  -> 튜플: (3,4,5,...)"
   ]
  },
  {
   "cell_type": "raw",
   "metadata": {
    "id": "ULnEgbxVAONs"
   },
   "source": [
    "def add_mul(x, y):\n",
    "    s = x + y\n",
    "    m = x * y\n",
    "    \n",
    "    return s, m\n",
    "\n",
    "a, b = add_mul(20, 3)\n",
    "print(a, b)"
   ]
  },
  {
   "cell_type": "code",
   "execution_count": null,
   "metadata": {},
   "outputs": [],
   "source": []
  },
  {
   "cell_type": "raw",
   "metadata": {
    "id": "PfUcTaqsAONs"
   },
   "source": [
    "def add_mul(x, y):\n",
    "    s = x + y\n",
    "    m = x * y\n",
    "    \n",
    "    return s, m\n",
    "\n",
    "c = add_mul(20, 3)\n",
    "print(c)\n",
    "type(c)"
   ]
  },
  {
   "cell_type": "code",
   "execution_count": null,
   "metadata": {},
   "outputs": [],
   "source": []
  },
  {
   "cell_type": "markdown",
   "metadata": {
    "id": "J6XTjHFIAONs"
   },
   "source": [
    "## **10. 변수의 영향 범위 (variable scope) !!! 중요 중요 !!!** \n",
    " + 함수 코드 블록에서 전달인자로 선언된 변수는 **지역변수(local variable)** 로 함수 밖에는 영항을 미치지 않음! (함수 내에서만 유효)\n",
    " + 반대로 함수 밖에 (주로 상단에) 정의되어 프로그램 종료 전까지 유지되는 변수를 **전역변수(global variable)**라고 함\n",
    " + 지역변수는 전역변수에 영향을 주지 않음!"
   ]
  },
  {
   "cell_type": "raw",
   "metadata": {
    "id": "vbezUBgzAONs"
   },
   "source": [
    "# 전역변수와 지역변수가 같은 이름으로 존재하는 경우 \n",
    "\n",
    "num1 = 10           # 전역변수\n",
    "num2 = 30\n",
    "\n",
    "def test(num1, num2):  # 지역변수\n",
    "    print(num1, num2)\n",
    "    return num1 + num2\n",
    "\n",
    "test(30, 40)\n",
    "\n",
    "print(num1, num2)              # test함수와 상관없음!!! \n",
    "    "
   ]
  },
  {
   "cell_type": "code",
   "execution_count": null,
   "metadata": {},
   "outputs": [],
   "source": []
  },
  {
   "cell_type": "markdown",
   "metadata": {
    "id": "fBEKe-6gAONs"
   },
   "source": [
    "## **11. 가변길이 전달인자(variable length argument)**\n",
    " - 전달되는 파라미터의 개수가 고정적이지 않은 경우 사용\n",
    " - 파라미터 앞에 * 을 붙여 생성함: *args\n",
    " "
   ]
  },
  {
   "cell_type": "raw",
   "metadata": {
    "id": "xaGxHqAOAONs"
   },
   "source": [
    "def test(*args):                  # 가변길이 파라미터는 앞에 * 을 붙여 생성\n",
    "    for item in args:\n",
    "        print(item)\n",
    "    \n",
    "test(10, 30, 40, 50, 60, 70)    \n",
    "test(10, 30, 40)    "
   ]
  },
  {
   "cell_type": "code",
   "execution_count": null,
   "metadata": {},
   "outputs": [],
   "source": []
  },
  {
   "cell_type": "raw",
   "metadata": {
    "id": "MSkCcnACAONt"
   },
   "source": [
    "#format() 도 가변길이 전달인자 함수!\n",
    "a = '오늘 기온{}도 이고, 비올 확률은 {}%'.format(25.5, 80)\n",
    "print(a)\n",
    "\n",
    "b = '오늘 온도{}도 이고, 비올 확률은 {}%, 내일 온도는 {}도'.format(25.5, 80, 30)\n",
    "print(b)"
   ]
  },
  {
   "cell_type": "code",
   "execution_count": null,
   "metadata": {},
   "outputs": [],
   "source": []
  },
  {
   "cell_type": "raw",
   "metadata": {
    "id": "2M38NaTyK4st",
    "outputId": "ae9cf6e6-54dd-4745-837b-bd318270e5b2"
   },
   "source": [
    "# format()을 이용한 소수점 처리\n",
    "a=3.123\n",
    "b='소수점 한자리 {:.1f},   소수점 두자리 {:.2f},   소수점 세자리 {:.3f}'.format(a,a,a)\n",
    "b"
   ]
  },
  {
   "cell_type": "code",
   "execution_count": 9,
   "metadata": {},
   "outputs": [
    {
     "data": {
      "text/plain": [
       "'소수점 한자리 3.1,   소수점 두자리 3.12,   소수점 세자리 3.123'"
      ]
     },
     "execution_count": 9,
     "metadata": {},
     "output_type": "execute_result"
    }
   ],
   "source": [
    "a=3.123\n"
   ]
  },
  {
   "cell_type": "raw",
   "metadata": {
    "id": "kzVQ0vxZK4st",
    "outputId": "8d0dbe14-9ca0-4dab-a019-c1834d46c21e"
   },
   "source": [
    "#  print의 %를 이용한 소수점 처리 \n",
    "print('소수점 한자리: %.1f' %a)\n",
    "\n",
    "# 여러 숫자 출력 \n",
    "print('소수점 한자리: %.1f \\n소수점 두자리: %.2f' %(a,a))\n",
    "\n",
    "#여러 문자 출력\n",
    "print('오늘도 즐거운 %s %s' %('머신러닝', '공부'))"
   ]
  },
  {
   "cell_type": "code",
   "execution_count": null,
   "metadata": {},
   "outputs": [],
   "source": []
  }
 ],
 "metadata": {
  "colab": {
   "collapsed_sections": [],
   "name": "Day2_2 (2) 사용자 함수.ipynb",
   "provenance": [
    {
     "file_id": "1WTpCZl3ilGQfdyn2tI4CKyw02WEZwPRg",
     "timestamp": 1648043125316
    }
   ]
  },
  "kernelspec": {
   "display_name": "Python 3",
   "language": "python",
   "name": "python3"
  },
  "language_info": {
   "codemirror_mode": {
    "name": "ipython",
    "version": 3
   },
   "file_extension": ".py",
   "mimetype": "text/x-python",
   "name": "python",
   "nbconvert_exporter": "python",
   "pygments_lexer": "ipython3",
   "version": "3.7.4"
  }
 },
 "nbformat": 4,
 "nbformat_minor": 1
}
