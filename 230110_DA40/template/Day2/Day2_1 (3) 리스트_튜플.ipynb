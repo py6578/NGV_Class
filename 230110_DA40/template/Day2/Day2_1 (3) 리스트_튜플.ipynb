{
 "cells": [
  {
   "cell_type": "markdown",
   "metadata": {
    "id": "LT1ydco-eu-x"
   },
   "source": [
    "## intro 리스트 & 튜플 \n",
    " * 복수개의 값을 담는 컬렉션(collection) 타입의 데이터 구조\n",
    " * 실생활에서 사용하는 리스트(학생 리스트, 성적 리스트 등등)과 동일한 의미로 이해\n",
    " 리스트와 튜플의 차이\n",
    " * list - 생성된 후에 변경 가능 - 추가, 삭제, 변경 등  \n",
    " * tuple - 생성된 후에 변경 불가능  "
   ]
  },
  {
   "cell_type": "markdown",
   "metadata": {
    "id": "ym3v_EbsI1bg"
   },
   "source": [
    "# 1. 리스트"
   ]
  },
  {
   "cell_type": "markdown",
   "metadata": {
    "id": "92DXc215eu-y"
   },
   "source": [
    "#### (1) **리스트 생성하는 방법**\n",
    " -  [  ] (대괄호)를 이용하여 리스트를 만든다.  (가장 많이 사용하는 방법!)\n",
    " -  list() 함수를 이용하여 만든다."
   ]
  },
  {
   "cell_type": "raw",
   "metadata": {
    "id": "dpkfXXmpeu-z"
   },
   "source": [
    "a = []          #값이 비어있는 리스트 생성\n",
    "print(a)"
   ]
  },
  {
   "cell_type": "code",
   "execution_count": null,
   "metadata": {},
   "outputs": [],
   "source": []
  },
  {
   "cell_type": "raw",
   "metadata": {
    "id": "NEP7qc40eu-0"
   },
   "source": [
    "a = [1, 2, 3, 5, 10]    #5개의 원소가 있는 리스트 생성\n",
    "print(a)"
   ]
  },
  {
   "cell_type": "code",
   "execution_count": null,
   "metadata": {},
   "outputs": [],
   "source": []
  },
  {
   "cell_type": "raw",
   "metadata": {
    "id": "ypxBPRmzeu-0"
   },
   "source": [
    "a = ['korea', 'canada', 1, 23, [34, 56]]\n",
    "print(a)"
   ]
  },
  {
   "cell_type": "code",
   "execution_count": null,
   "metadata": {},
   "outputs": [],
   "source": []
  },
  {
   "cell_type": "markdown",
   "metadata": {
    "id": "Baww-_rSeu-1"
   },
   "source": [
    "* **list() 함수**\n",
    " + 다른 데이터 타입을 리스트로 변환할 때도 사용"
   ]
  },
  {
   "cell_type": "raw",
   "metadata": {
    "id": "zFHEMSDveu-2"
   },
   "source": [
    "a = 'hello world'\n",
    "b = list(a)           # 문자열의 각 문자를 원소로 한 리스트 생성\n",
    "\n",
    "print(b)"
   ]
  },
  {
   "cell_type": "code",
   "execution_count": null,
   "metadata": {},
   "outputs": [],
   "source": []
  },
  {
   "cell_type": "raw",
   "metadata": {
    "id": "I46Cf7Zgeu-2"
   },
   "source": [
    "c = (1, 2, 3)    # 소괄호로 생성하면 튜플!\n",
    "d = list(c)\n",
    "\n",
    "print(d)"
   ]
  },
  {
   "cell_type": "code",
   "execution_count": null,
   "metadata": {},
   "outputs": [],
   "source": []
  },
  {
   "cell_type": "markdown",
   "metadata": {
    "id": "_m8TTnRGeu-3"
   },
   "source": [
    "#### (2) **리스트 인덱싱(indexing)**\n",
    " * 문자열의 인덱싱과 동일한 원리\n",
    " * [  ] 대괄호를 이용하여 해당 인덱스의 항목을 얻어옴\n",
    " * [i] - i+1번째 원소를 반환 (왜냐하면 인덱스 0이 첫번째 원소를 반환하므로)\n",
    " * [-i] - 음수인 경우, 끝에서 i번째 원소를 반환"
   ]
  },
  {
   "cell_type": "raw",
   "metadata": {
    "id": "Ih4AvQdJeu-3"
   },
   "source": [
    "a = [1, 2, 3, 4, 5, 6]\n",
    "a[2]\n",
    "a[5]\n",
    "a[-2]"
   ]
  },
  {
   "cell_type": "code",
   "execution_count": null,
   "metadata": {},
   "outputs": [],
   "source": []
  },
  {
   "cell_type": "markdown",
   "metadata": {
    "id": "vMuaK8wqeu-4"
   },
   "source": [
    "#### (3) **리스트 개별 아이템에 접근**\n",
    " - 인덱스로 접근하여 값을 변경 가능"
   ]
  },
  {
   "cell_type": "raw",
   "metadata": {
    "id": "hqxxv7p-eu-4"
   },
   "source": [
    "a = [1, 2, 3, 4, 5]\n",
    "a[0] = 100\n",
    "a[-1] = 90    #a[4]=90 과 동일\n",
    "\n",
    "a"
   ]
  },
  {
   "cell_type": "code",
   "execution_count": null,
   "metadata": {},
   "outputs": [],
   "source": []
  },
  {
   "cell_type": "markdown",
   "metadata": {
    "id": "6xb6QhE8eu-4"
   },
   "source": [
    "#### (4) **리스트 슬라이싱 (slicing)** (ppt)\n",
    " - 문자열 슬라이싱과 동일하게 동작\n",
    " - 슬라이싱의 결과 역시 리스트!"
   ]
  },
  {
   "cell_type": "raw",
   "metadata": {
    "id": "tAdVI-sxeu-5"
   },
   "source": [
    "a = [1, 2, 3, 4, 5, 6, 7, 8]\n",
    "a[4:7]\n",
    "a[:7]\n",
    "a[3:]\n",
    "a[:]"
   ]
  },
  {
   "cell_type": "code",
   "execution_count": null,
   "metadata": {},
   "outputs": [],
   "source": []
  },
  {
   "cell_type": "raw",
   "metadata": {
    "id": "AHtw2TxLeu-5"
   },
   "source": [
    "a[1:7:2]    #start:end:increment (증가분, 기본값=1),  위의 a[1:7]과 잘 비교할 것!"
   ]
  },
  {
   "cell_type": "code",
   "execution_count": null,
   "metadata": {},
   "outputs": [],
   "source": []
  },
  {
   "cell_type": "markdown",
   "metadata": {
    "id": "hh7gqpCpeu-5"
   },
   "source": [
    "### (5) 리스트(list)의 멤버 함수\n",
    " - 생성된 리스트에 내장되어 사용할 수 있는 함수  (문자열에도 멤버함수가 있었음!)\n",
    " - a.을 치고 *Tab키*를 눌러보면 멤버함수를 확인할 수 있음 "
   ]
  },
  {
   "cell_type": "raw",
   "metadata": {
    "id": "RQ1ya_zTeu-5"
   },
   "source": [
    "a.            #멤버함수를 확인해 보자!"
   ]
  },
  {
   "cell_type": "code",
   "execution_count": null,
   "metadata": {},
   "outputs": [],
   "source": []
  },
  {
   "cell_type": "markdown",
   "metadata": {
    "id": "3i5t6OqEeu-6"
   },
   "source": [
    "* **append()**\n",
    " + 리스트의 끝에 항목을 추가함"
   ]
  },
  {
   "cell_type": "raw",
   "metadata": {
    "id": "9kpNWTvyeu-6"
   },
   "source": [
    "a = [1, 2, 3, 4, 5]\n",
    "a.append(10)\n",
    "\n",
    "a"
   ]
  },
  {
   "cell_type": "code",
   "execution_count": null,
   "metadata": {},
   "outputs": [],
   "source": []
  },
  {
   "cell_type": "markdown",
   "metadata": {
    "id": "XvjA_py3eu-6"
   },
   "source": [
    "+ **extend()**\n",
    " * 리스트를 연장"
   ]
  },
  {
   "cell_type": "raw",
   "metadata": {
    "id": "KREEQtFFeu-6"
   },
   "source": [
    "a = [1, 2, 3, 4, 5]\n",
    "b = [6, 7, 8, 9, 10]\n",
    "\n",
    "# [1, 2, 3, 4, 5, 6, 7, 8, 9, 10]  를 만들고 싶다면\n",
    "a.append(b)     #이렇게 하면 될까?\n",
    "a"
   ]
  },
  {
   "cell_type": "code",
   "execution_count": 6,
   "metadata": {},
   "outputs": [],
   "source": [
    "a = [1, 2, 3, 4, 5]\n",
    "b = [6, 7, 8, 9, 10]\n"
   ]
  },
  {
   "cell_type": "raw",
   "metadata": {
    "id": "h7HCnIEVeu-6"
   },
   "source": [
    "# [1, 2, 3, 4, 5, 6, 7, 8, 9, 10]  를 만들고 싶다면 extend()함수!\n",
    "\n",
    "a = [1, 2, 3, 4, 5]\n",
    "b = [6, 7, 8, 9, 10]\n",
    "a.extend(b)\n",
    "print(a)"
   ]
  },
  {
   "cell_type": "code",
   "execution_count": 7,
   "metadata": {},
   "outputs": [],
   "source": [
    "a = [1, 2, 3, 4, 5]\n",
    "b = [6, 7, 8, 9, 10]\n"
   ]
  },
  {
   "cell_type": "markdown",
   "metadata": {
    "id": "WAlANwyQeHTx"
   },
   "source": [
    "- **[tip] 리스트 연결**\n",
    " - '+' 이용\n",
    "\n"
   ]
  },
  {
   "cell_type": "raw",
   "metadata": {
    "id": "JnjR8c_ceVl-"
   },
   "source": [
    "a=[1,2,3,4,5]\n",
    "b=[6,7,8,9,10]\n",
    "c=a+b\n",
    "print(a+b)"
   ]
  },
  {
   "cell_type": "code",
   "execution_count": 8,
   "metadata": {},
   "outputs": [],
   "source": [
    "a=[1,2,3,4,5]\n",
    "b=[6,7,8,9,10]\n"
   ]
  },
  {
   "cell_type": "markdown",
   "metadata": {
    "id": "ryDm6cKReu-7"
   },
   "source": [
    "+ **insert()**\n",
    " * 리스트의 원하는 위치에 항목 추가 (append() 는 맨 마지막에 추가)\n",
    " * 괄호안에 앞에는 index(위치)를, 뒤에는 object(추가할 아이템)을 명시"
   ]
  },
  {
   "cell_type": "raw",
   "metadata": {
    "id": "6GU_3gnXeu-7"
   },
   "source": [
    "a = [1, 3, 4, 5, 6]\n",
    "a.insert(1, 40)\n",
    "\n",
    "a"
   ]
  },
  {
   "cell_type": "code",
   "execution_count": 9,
   "metadata": {},
   "outputs": [],
   "source": [
    "a = [1, 3, 4, 5, 6]\n"
   ]
  },
  {
   "cell_type": "markdown",
   "metadata": {
    "id": "sV4QjKO1eu-7"
   },
   "source": [
    "+ **remove()**\n",
    " * 값(value)으로 항목 삭제  (인덱스로 지우는 게 아님을 주의!, 이것도 헷갈리면 \"Shift+Tab\"(도움말) 으로 확인하자!"
   ]
  },
  {
   "cell_type": "raw",
   "metadata": {
    "id": "_E8QZL2-eu-8"
   },
   "source": [
    "a = [1, 2, 30, 30, 4, 5]\n",
    "a.remove(2)\n",
    "a"
   ]
  },
  {
   "cell_type": "code",
   "execution_count": 38,
   "metadata": {},
   "outputs": [
    {
     "name": "stdout",
     "output_type": "stream",
     "text": [
      "[1, 30, 30, 4, 5]\n"
     ]
    }
   ],
   "source": [
    "a = [1, 2, 30, 30, 4, 5]\n"
   ]
  },
  {
   "cell_type": "raw",
   "metadata": {},
   "source": [
    "a = [1, 2, 30, 4, 5, 30]\n",
    "a.remove(30)\n",
    "a"
   ]
  },
  {
   "cell_type": "code",
   "execution_count": 10,
   "metadata": {},
   "outputs": [],
   "source": [
    "a = [1, 2, 30, 4, 5, 30]\n"
   ]
  },
  {
   "cell_type": "markdown",
   "metadata": {
    "id": "tMSMR_QHeu-8"
   },
   "source": [
    "+ **index()**\n",
    " * 찾고자 하는 값의 인덱스 반환"
   ]
  },
  {
   "cell_type": "raw",
   "metadata": {
    "id": "3tKQkjtweu-8"
   },
   "source": [
    "a = [2, 6, 7, 9, 10]\n",
    "a.index(6)"
   ]
  },
  {
   "cell_type": "code",
   "execution_count": 11,
   "metadata": {},
   "outputs": [],
   "source": [
    "a = [2, 6, 7, 9, 10]\n"
   ]
  },
  {
   "cell_type": "markdown",
   "metadata": {
    "id": "yFp1ZNxdeu-8"
   },
   "source": [
    "* **in 키워드**\n",
    " + 리스트 내에 해당 값이 존재하는지 확인\n",
    " + value in [list]\n",
    " + True, False 중 한가지로 반환"
   ]
  },
  {
   "cell_type": "raw",
   "metadata": {
    "id": "gJumT6Efeu-8"
   },
   "source": [
    "a = [1, 2, 3, 4, 5, 10]\n",
    "b = 7\n",
    "\n",
    "c = b in a       #리스트 a 안에 b값이 있는가?  --->  False\n",
    "c"
   ]
  },
  {
   "cell_type": "code",
   "execution_count": 12,
   "metadata": {},
   "outputs": [],
   "source": [
    "a = [1, 2, 3, 4, 5, 10]\n",
    "b = 7\n"
   ]
  },
  {
   "cell_type": "markdown",
   "metadata": {
    "id": "MvqHqqTteu-9"
   },
   "source": [
    "* **list 정렬**\n",
    " + sort() -> 리스트 자체를 내부적으로 정렬\n",
    " + sorted() -> 리스트의 정렬된 복사본을 반환 (리스트 자체는 정렬이 안되고 그대로 남아있음!)"
   ]
  },
  {
   "cell_type": "raw",
   "metadata": {
    "id": "Aj7xcff0eu-9"
   },
   "source": [
    "a = [9, 10, 7, 19, 1, 2, 20, 21, 7, 8]\n",
    "a.sort()               # 인수를 생략하하면 (오름차순 정렬!)\n",
    "a"
   ]
  },
  {
   "cell_type": "code",
   "execution_count": 13,
   "metadata": {},
   "outputs": [
    {
     "data": {
      "text/plain": [
       "[21, 20, 19, 10, 9, 8, 7, 7, 2, 1]"
      ]
     },
     "execution_count": 13,
     "metadata": {},
     "output_type": "execute_result"
    }
   ],
   "source": [
    "a = [9, 10, 7, 19, 1, 2, 20, 21, 7, 8]\n"
   ]
  },
  {
   "cell_type": "raw",
   "metadata": {
    "id": "1KMCgx2heu-9"
   },
   "source": [
    "a.sort(reverse=True)               # reverse=True (내림차순 정렬!)\n",
    "a"
   ]
  },
  {
   "cell_type": "code",
   "execution_count": null,
   "metadata": {},
   "outputs": [],
   "source": []
  },
  {
   "cell_type": "raw",
   "metadata": {
    "id": "CrN8x7ROeu--"
   },
   "source": [
    "a = [9, 10, 7, 19, 1, 2, 20, 21, 7, 8]\n",
    "b = sorted(a)                # b만 정렬, a는 정렬안됨 \n",
    "print(a)\n",
    "print(b)"
   ]
  },
  {
   "cell_type": "code",
   "execution_count": 15,
   "metadata": {},
   "outputs": [],
   "source": [
    "a = [9, 10, 7, 19, 1, 2, 20, 21, 7, 8]  \n"
   ]
  },
  {
   "cell_type": "raw",
   "metadata": {
    "id": "VOz8H8d-eu--"
   },
   "source": [
    "a = sorted(a, reverse=True)                # reverse=True (내림차순 정렬!)\n",
    "a"
   ]
  },
  {
   "cell_type": "code",
   "execution_count": null,
   "metadata": {},
   "outputs": [],
   "source": []
  },
  {
   "cell_type": "markdown",
   "metadata": {
    "id": "Cq6LJG35gPBW"
   },
   "source": [
    "## (6)range() 함수를 이용한 리스트 생성 \n",
    "  - 숫자리스트를 만들때 가장 많이 사용하는 함수 \n",
    "  - range(start, stop, step) \n",
    "    - **start** 값부터 **stop-1**까지, **step 간격**으로 숫자 생성 \n",
    "  - 인수 1개: range(stop)\n",
    "    - **start = 0, step =  1**\n",
    "  - 인수 2개: range(star, stop) \n",
    "    - **step =  1**\n",
    "  - list 함수와 함께 사용 \n"
   ]
  },
  {
   "cell_type": "raw",
   "metadata": {
    "id": "1Ge5Q2DCh__D"
   },
   "source": [
    "list(range(3)) #0부터 2까지 "
   ]
  },
  {
   "cell_type": "code",
   "execution_count": null,
   "metadata": {},
   "outputs": [],
   "source": []
  },
  {
   "cell_type": "raw",
   "metadata": {
    "id": "Flc55hdTgYNK"
   },
   "source": [
    "list(range(1,11)) #1부터 10까지 "
   ]
  },
  {
   "cell_type": "code",
   "execution_count": null,
   "metadata": {},
   "outputs": [],
   "source": []
  },
  {
   "cell_type": "raw",
   "metadata": {
    "id": "eFKzbPdHitjb"
   },
   "source": [
    "list(range(1,11,2))  #?"
   ]
  },
  {
   "cell_type": "code",
   "execution_count": null,
   "metadata": {},
   "outputs": [],
   "source": []
  },
  {
   "cell_type": "code",
   "execution_count": 16,
   "metadata": {},
   "outputs": [
    {
     "data": {
      "text/plain": [
       "[10, 9, 8, 7, 6, 5, 4, 3, 2, 1]"
      ]
     },
     "execution_count": 16,
     "metadata": {},
     "output_type": "execute_result"
    }
   ],
   "source": [
    "list(range(10,0,-1))  #10부터 ?까지 -1 간격으로   "
   ]
  },
  {
   "cell_type": "code",
   "execution_count": 17,
   "metadata": {},
   "outputs": [
    {
     "data": {
      "text/plain": [
       "[10, 8, 6, 4, 2]"
      ]
     },
     "execution_count": 17,
     "metadata": {},
     "output_type": "execute_result"
    }
   ],
   "source": [
    "list(range(10,0,-2))  #10부터 ?까지 -2 간격으로   "
   ]
  },
  {
   "cell_type": "markdown",
   "metadata": {
    "id": "rbh_Qko-eu--"
   },
   "source": [
    "#튜플 **tuple**\n",
    " - 리스트와 같이 복수 개의 값을 갖는 컬렉션 타입\n",
    " - 소괄호 또는 괄호 없이 생성 \n",
    " - 리스트와의 차이점은 생성된 후 변경이 불가능! -->값이 변경되면 안되는 경우에 사용!\n",
    " - 인덱싱, 슬라이싱, 연결은 리스트와 동일!"
   ]
  },
  {
   "cell_type": "code",
   "execution_count": null,
   "metadata": {
    "id": "mqnjbdH9eu--"
   },
   "outputs": [],
   "source": [
    "a = [1, 2, 3]    #대괄호 : 리스트\n",
    "b = (1, 2, 3)    #소괄호 : 튜플\n",
    "\n",
    "print(type(a))\n",
    "print(type(b))"
   ]
  },
  {
   "cell_type": "code",
   "execution_count": null,
   "metadata": {
    "id": "DaTXsF21fJdf"
   },
   "outputs": [],
   "source": [
    "tup1 = 3,4    #괄호 없이 생성\n",
    "tup2 =(3,4,5)  #소괄호()로  생성\n",
    "print('tup1:', tup1)\n",
    "print(type(tup1))"
   ]
  },
  {
   "cell_type": "code",
   "execution_count": null,
   "metadata": {},
   "outputs": [],
   "source": [
    "print('tup2:', tup2)\n",
    "print(type(tup2))"
   ]
  },
  {
   "cell_type": "code",
   "execution_count": null,
   "metadata": {
    "id": "gECVvJJieu-_"
   },
   "outputs": [],
   "source": [
    "a[0] = 100      # 가능! 리스트니까...\n",
    "print(a)"
   ]
  },
  {
   "cell_type": "code",
   "execution_count": 68,
   "metadata": {},
   "outputs": [],
   "source": [
    "b=(1,2,3)"
   ]
  },
  {
   "cell_type": "code",
   "execution_count": null,
   "metadata": {},
   "outputs": [],
   "source": [
    "b[0]=100       # 불가능! 튜플이니까...."
   ]
  },
  {
   "cell_type": "markdown",
   "metadata": {
    "id": "jide4ryneu_A"
   },
   "source": [
    "#### **마지막 꿀팁! 변수의 동시 선언!**\n",
    " "
   ]
  },
  {
   "cell_type": "raw",
   "metadata": {
    "id": "4nrJHWKyeu_A"
   },
   "source": [
    "a, b, c, d = 100, 200, 300, 400\n",
    "print(a, b, c, d)\n",
    "\n",
    "# 이 기능은 언제 유용할까?"
   ]
  },
  {
   "cell_type": "code",
   "execution_count": 70,
   "metadata": {},
   "outputs": [
    {
     "name": "stdout",
     "output_type": "stream",
     "text": [
      "100 200 300 400\n"
     ]
    }
   ],
   "source": [
    "a, b, c, d = 100, 200, 300, 400\n",
    "print(a, b, c, d)"
   ]
  },
  {
   "cell_type": "markdown",
   "metadata": {
    "id": "WhRoXijoeu_A"
   },
   "source": [
    "* **이런 경우?** a와 b의 값을 교환하시오"
   ]
  },
  {
   "cell_type": "code",
   "execution_count": null,
   "metadata": {},
   "outputs": [],
   "source": [
    "a = 5\n",
    "b = 4\n",
    "\n",
    "temp = a     # 보통은 temp라는 임시 변수를 사용함!\n",
    "a = b\n",
    "b = temp\n",
    "\n",
    "print(a, b)"
   ]
  },
  {
   "cell_type": "code",
   "execution_count": null,
   "metadata": {
    "id": "aoF4_H91eu_A"
   },
   "outputs": [],
   "source": [
    "a = 5\n",
    "b = 4\n",
    "\n",
    "a, b = b, a   #이렇게 쉽게 교환하다니!!!\n",
    "\n",
    "print(a, b)"
   ]
  }
 ],
 "metadata": {
  "colab": {
   "collapsed_sections": [],
   "name": "Day2_1 (3) 리스트_튜플.ipynb",
   "provenance": [],
   "toc_visible": true
  },
  "kernelspec": {
   "display_name": "Python 3",
   "language": "python",
   "name": "python3"
  },
  "language_info": {
   "codemirror_mode": {
    "name": "ipython",
    "version": 3
   },
   "file_extension": ".py",
   "mimetype": "text/x-python",
   "name": "python",
   "nbconvert_exporter": "python",
   "pygments_lexer": "ipython3",
   "version": "3.7.4"
  }
 },
 "nbformat": 4,
 "nbformat_minor": 1
}
