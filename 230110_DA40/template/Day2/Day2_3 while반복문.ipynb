{
 "cells": [
  {
   "cell_type": "markdown",
   "metadata": {
    "id": "5Tj9b8rlP-v7"
   },
   "source": [
    "## 반복문(loop)이란?\n",
    " + 반복적인 작업을 가능하게 해주는 코드 - while 이나 for 를 이용하여 작성\n",
    " + a = [1, 2, 3, 4, 5] , 만약 a의 각 아이템을 하나씩 출력하고 싶다면 어떻게 해야할까?  \n",
    "    + 리스트, 문자열, 튜플 등 컬렉션 타입의 아이템을 하나씩 순회하면서 사용 가능\n",
    " \n",
    " + 반복문은 가장 많이 사용하는 구문 중 하나!\n",
    " + 주의할점: while 반복문을 사용할 경우, 반복을 멈추게 하는 장치가 필요\n",
    "   + 그렇지 않으면 셀이 무한히 수행되며, jupyter notebook의 재부팅이 필요\n",
    "   + 특정 조건을 만족하는 경우 수행되므로 반복문이 무한 실행되지 않도록 조건문을 정확히 작성해야 함!"
   ]
  },
  {
   "cell_type": "markdown",
   "metadata": {
    "id": "6AteRgZ4P-v8"
   },
   "source": [
    "## while 반복문\n",
    "\n",
    "  - while 뒤에 나오는 조건이 참(True)일 경우, while 코드 블록을 계속 수행\n",
    "  - while 코드 블록이란?\n",
    "    - if와 마찬가지로 while문 아래의 들여쓰기로 작성 된 부분을 의미\n",
    "  - 조건이 False가 되면 블록 수행을 멈추고 그 다음 코드를 실행함"
   ]
  },
  {
   "cell_type": "markdown",
   "metadata": {
    "id": "Ol-qUKTnP-v8"
   },
   "source": [
    "#### while 키워드 이용하여 리스트의 아이템 출력하기"
   ]
  },
  {
   "cell_type": "raw",
   "metadata": {
    "id": "cQrpdDPFP-v9"
   },
   "source": [
    "a = [1, 2, 3, 4, 5]\n",
    "print (len(a))  #길이 확인"
   ]
  },
  {
   "cell_type": "code",
   "execution_count": null,
   "metadata": {},
   "outputs": [],
   "source": []
  },
  {
   "cell_type": "raw",
   "metadata": {
    "id": "90mYhSH0P-v-"
   },
   "source": [
    "a = [1, 2, 3, 4, 5]\n",
    "\n",
    "i = 0               # 인덱스\n",
    "while i < len(a):   # len(a): a 리스트의 길이 5를 반환, 즉 i<5 와 동일한 의미\n",
    "    print(a[i])\n",
    "    i=i+1           # while 코드블럭이 무한반복되지 않도록 조건문이 언젠가 종료될 수 있도록 함\n"
   ]
  },
  {
   "cell_type": "code",
   "execution_count": null,
   "metadata": {},
   "outputs": [],
   "source": []
  },
  {
   "cell_type": "markdown",
   "metadata": {
    "id": "fKfBUPyDP-wA"
   },
   "source": [
    "#### while 키워드 이용하여 리스트의 아이템 출력하기\n",
    " - 조건문과 함께 사용하기"
   ]
  },
  {
   "cell_type": "raw",
   "metadata": {
    "id": "TWWQTFtmP-wB"
   },
   "source": [
    "a = [1, 10, 9, 24, 25, 26]\n",
    "\n",
    "i = 0 # 인덱스\n",
    "while i < len(a):\n",
    "    if a[i] > 20:   # 값이 20보다 큰 경우만 출력   \n",
    "        print(a[i]) # if 코드블럭(0), while 코드블럭 (0)\n",
    "    i += 1          # if 코드블럭(x), while 코드블럭 (0)"
   ]
  },
  {
   "cell_type": "code",
   "execution_count": null,
   "metadata": {},
   "outputs": [],
   "source": [
    "a = [1, 10, 9, 24, 25, 26]\n"
   ]
  },
  {
   "cell_type": "raw",
   "metadata": {
    "id": "Pf26QDS2P-wB"
   },
   "source": [
    "#홀수이면 그냥 print하고 짝수이면 2로 나누어 print해보자!\n",
    "\n",
    "#while - if -else 의 대표적 반복-조건문 형태\n",
    "\n",
    "a = [1, 10, 9, 24, 25, 26]\n",
    "\n",
    "i = 0 # 인덱스\n",
    "while i < len(a):       #i < 6\n",
    "    if (a[i] % 2 == 1): # 홀수인 경우인지 확인하는 조건\n",
    "        print(a[i])\n",
    "    else:\n",
    "        print(a[i] / 2) # 짝수인 경우는 2로 나눈 몫을 출력\n",
    "    i += 1"
   ]
  },
  {
   "cell_type": "code",
   "execution_count": null,
   "metadata": {},
   "outputs": [],
   "source": []
  },
  {
   "cell_type": "code",
   "execution_count": null,
   "metadata": {},
   "outputs": [],
   "source": [
    "# 만약 모두 정수형태로 출력하고 싶다면??\n"
   ]
  },
  {
   "cell_type": "markdown",
   "metadata": {
    "id": "C0bhToRSP-wC"
   },
   "source": [
    "####  언제 무한루프에 빠지게 되는가?\n",
    " - while 반복문에서 종료를 위한 조건문이 없거나 제대로 설정되지 않을 경우 실행이 무한 반복되게 됨 (무한루프)\n",
    " - 이 경우 Kernel > Restart & Clear Output 메뉴를 이용하여 인위적으로 실행을 중단하고 재시작 해 주어야 함 "
   ]
  },
  {
   "cell_type": "raw",
   "metadata": {
    "id": "bXFwsB6YP-wC"
   },
   "source": [
    "while True:    #조건문이 항상 True \n",
    "    print('infinite loop')"
   ]
  },
  {
   "cell_type": "code",
   "execution_count": null,
   "metadata": {},
   "outputs": [],
   "source": []
  },
  {
   "cell_type": "raw",
   "metadata": {
    "id": "O5uaW_XUP-wC",
    "scrolled": false
   },
   "source": [
    "a = [1, 2, 3, 4, 5]   \n",
    "\n",
    "i = 0              \n",
    "while i < len(a):   # 조건문이 항상 True \n",
    "    print(a[i])"
   ]
  },
  {
   "cell_type": "code",
   "execution_count": null,
   "metadata": {},
   "outputs": [],
   "source": []
  },
  {
   "cell_type": "markdown",
   "metadata": {
    "id": "vvZLv2ECP-wD"
   },
   "source": [
    "#### break \n",
    " + 반복문을 실행하다 break 문을 만나면 무조건 강제 중단하게 됨\n",
    " + 보통 조건문 안에서 수행되며, 조건을 만족하는 경우 loop를 탈출하기 위해 사용\n",
    " + loop를 중단 하는 경우, while 이후의 코드를 수행"
   ]
  },
  {
   "cell_type": "raw",
   "metadata": {
    "id": "HaQJ4BJ3P-wD"
   },
   "source": [
    "a = [1, 10, 9, 24, 25, 26]\n",
    "\n",
    "i = 0\n",
    "while i < len(a):\n",
    "    if a[i] > 20:\n",
    "        break     \n",
    "    print(a[i])\n",
    "    \n",
    "    i += 1"
   ]
  },
  {
   "cell_type": "code",
   "execution_count": null,
   "metadata": {},
   "outputs": [],
   "source": []
  },
  {
   "cell_type": "markdown",
   "metadata": {
    "id": "01IAT6wiP-wD"
   },
   "source": [
    "#### continue\n",
    " + break 처럼 반복을 중단하여 빠져나오는 것이 아니라, continue 이후의 코드에 대한 실행은 생략하고 다시 while 코드 블럭의 맨처음 부분으로 점프하여 실행함\n",
    " + 즉 특정한 조건이 만족되는 경우 코드를 수행하지 않고 다음으로 건너 뛰기 위해 사용!"
   ]
  },
  {
   "cell_type": "raw",
   "metadata": {
    "id": "fJdSs3MDP-wE"
   },
   "source": [
    "a = 7\n",
    "while a > 0:\n",
    "    a -= 1\n",
    "    print(a)      # 6부터 0까지 출력하는 코드!"
   ]
  },
  {
   "cell_type": "code",
   "execution_count": null,
   "metadata": {},
   "outputs": [],
   "source": []
  },
  {
   "cell_type": "raw",
   "metadata": {
    "id": "SqDlNSV_P-wE"
   },
   "source": [
    "a = 7\n",
    "while a > 0:\n",
    "    a -= 1\n",
    "    if a == 5:\n",
    "        continue    # 5일 때는 출력을 생략하고 while 코드블럭의 처음으로  이동하여 실행함!\n",
    "    print(a)"
   ]
  },
  {
   "cell_type": "code",
   "execution_count": null,
   "metadata": {
    "scrolled": true
   },
   "outputs": [],
   "source": []
  },
  {
   "cell_type": "markdown",
   "metadata": {
    "id": "umQiCkoHP-wF"
   },
   "source": [
    "### [연습문제] 1 - 100까지 더하기"
   ]
  },
  {
   "cell_type": "raw",
   "metadata": {
    "id": "g4NVd48oP-wF"
   },
   "source": [
    "print (1+2+3+4+5+6+7+8+9+10+11+12+...+100)     # 1부터 100까지 더해야 한다면???"
   ]
  },
  {
   "cell_type": "code",
   "execution_count": 3,
   "metadata": {},
   "outputs": [],
   "source": [
    "_sum=0\n",
    "i=1\n",
    "\n"
   ]
  }
 ],
 "metadata": {
  "colab": {
   "collapsed_sections": [],
   "name": "Day2_3 while반복문_교수용.ipynb",
   "provenance": [],
   "toc_visible": true
  },
  "kernelspec": {
   "display_name": "Python 3",
   "language": "python",
   "name": "python3"
  },
  "language_info": {
   "codemirror_mode": {
    "name": "ipython",
    "version": 3
   },
   "file_extension": ".py",
   "mimetype": "text/x-python",
   "name": "python",
   "nbconvert_exporter": "python",
   "pygments_lexer": "ipython3",
   "version": "3.7.4"
  }
 },
 "nbformat": 4,
 "nbformat_minor": 1
}
