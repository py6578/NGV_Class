{
 "cells": [
  {
   "cell_type": "markdown",
   "metadata": {
    "id": "WhFqNVJaAONj"
   },
   "source": [
    "# 함수(function)란 무엇인가 ?\n",
    "* 반복적으로 수행할 기능을 작성해 놓은 코드블럭! \n",
    "* 지금까지 코드에서 많은 함수들이 존재하였음: ex)sum, len, range ...\n",
    "* 주어진 입력(input)에 대해서 의도된 출력(output)을 하는 역할!\n",
    "* 입력은 어떻게 하는가?  \n",
    "  + 함수명 뒤에 괄호를 하여 전달인자를 적어주는 부분이 입력! (ex. len (a) )\n",
    "* 출력은 어떻게 되는가?\n",
    "  + 함수명을 적어주면(함수호출) 수행결과가 출력됨(수행결과 반환, return)"
   ]
  },
  {
   "cell_type": "markdown",
   "metadata": {
    "id": "KvD02_lFAONl"
   },
   "source": [
    "# 함수의 종류\n",
    "\n",
    "+ 내장(built in)함수 : 파이썬에서 기본으로 제공 \n",
    "  + 파이썬 내부에 기본적으로 탑재된 함수를 바로 사용\n",
    "  + 예) len(), sum(), range(),print(), type(),  abs() 등(과정 진행하면서 필요할 때마다 다룰 예정)\n",
    "\n",
    "+ 라이브러리 함수 \n",
    "  + 라이브러리를 import문으로 포함한 후 사용 \n",
    "  + 예) Numbpy, Pandas 등 \n",
    "+ 사용자 정의(user-defeined)함수\n",
    "  + 사용자가 직접 함수를 정의 (def 이용) \n"
   ]
  },
  {
   "cell_type": "markdown",
   "metadata": {
    "id": "ufDlvbVytUqL"
   },
   "source": [
    "# 내장 함수\n"
   ]
  },
  {
   "cell_type": "markdown",
   "metadata": {
    "id": "CfOab3biKw-E"
   },
   "source": [
    "## 1) len() "
   ]
  },
  {
   "cell_type": "raw",
   "metadata": {
    "id": "vaxyn_XGAONk",
    "scrolled": true
   },
   "source": [
    "# 리스트나 문자열의 길이 알려줌. \n",
    "\n",
    "a = [1, 2, 3, 4]\n",
    "len(a)"
   ]
  },
  {
   "cell_type": "code",
   "execution_count": 1,
   "metadata": {},
   "outputs": [],
   "source": [
    "a = [1, 2, 3, 4,5]\n"
   ]
  },
  {
   "cell_type": "markdown",
   "metadata": {
    "id": "H_AVoGhLvQdg"
   },
   "source": [
    "## 2) sum() \n",
    " "
   ]
  },
  {
   "cell_type": "raw",
   "metadata": {
    "id": "17UeRgkKAONl"
   },
   "source": [
    "#합계 제공 \n",
    "\n",
    "a = [1, 2, 3, 4]\n",
    "s = sum(a)\n",
    "s"
   ]
  },
  {
   "cell_type": "code",
   "execution_count": 3,
   "metadata": {},
   "outputs": [],
   "source": [
    "a = [1, 2, 3, 4]\n"
   ]
  },
  {
   "cell_type": "markdown",
   "metadata": {
    "id": "IHXgC8ETuXRj"
   },
   "source": [
    "## 3) range ()\n",
    "  - 아이템이 많은 리스트를 쉽게 만들 수 있는 내장함수\n",
    "  - 주어진 값에 따라 다양한 결과를 반환\n",
    " \n",
    "```python\n",
    "list (range(10))       -> [0, 1, 2, 3, 4, 5, 6, 7, 8, 9]  -> 0 이상 10 미만 \n",
    "list (range(2, 10))    -> [2, 3, 4, 5, 6, 7, 8, 9]        -> 2 이상 10 미만\n",
    "list (range(2, 10, 3)) -> [2, 5, 8]                       -> 2 이상 10 미만, 3씩 증가!\n",
    "```"
   ]
  },
  {
   "cell_type": "code",
   "execution_count": 9,
   "metadata": {
    "id": "XMr-Z92Tuery"
   },
   "outputs": [],
   "source": [
    "# 1부터 10까지의 리스트 생성해 보자\n"
   ]
  },
  {
   "cell_type": "code",
   "execution_count": 11,
   "metadata": {},
   "outputs": [],
   "source": [
    "# 5부터 20까지 5씩 증가하는 리스트를 생성해 보자\n"
   ]
  },
  {
   "cell_type": "markdown",
   "metadata": {
    "id": "SVHNR4slujDD"
   },
   "source": [
    " **[연습문제]**\n",
    " -  5부터 100사이의 5의 배수만을 갖는 리스트를 생성하시오"
   ]
  },
  {
   "cell_type": "code",
   "execution_count": null,
   "metadata": {
    "id": "zNnYdaOwulEL"
   },
   "outputs": [],
   "source": []
  }
 ],
 "metadata": {
  "colab": {
   "collapsed_sections": [],
   "name": "Day2_2 (1) 함수.ipynb",
   "provenance": [
    {
     "file_id": "1WTpCZl3ilGQfdyn2tI4CKyw02WEZwPRg",
     "timestamp": 1648043125316
    }
   ],
   "toc_visible": true
  },
  "kernelspec": {
   "display_name": "Python 3",
   "language": "python",
   "name": "python3"
  },
  "language_info": {
   "codemirror_mode": {
    "name": "ipython",
    "version": 3
   },
   "file_extension": ".py",
   "mimetype": "text/x-python",
   "name": "python",
   "nbconvert_exporter": "python",
   "pygments_lexer": "ipython3",
   "version": "3.7.4"
  }
 },
 "nbformat": 4,
 "nbformat_minor": 1
}
