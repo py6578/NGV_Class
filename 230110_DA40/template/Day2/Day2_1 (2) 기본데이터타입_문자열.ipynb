{
 "cells": [
  {
   "cell_type": "markdown",
   "metadata": {
    "id": "KIw2o5yh_06s"
   },
   "source": [
    "# **파이썬 기초 문법** \n"
   ]
  },
  {
   "cell_type": "markdown",
   "metadata": {
    "id": "-y0JBIGjxv26"
   },
   "source": [
    "## **기본 데이터 타입 (자료형)** \n",
    " \n",
    "*   **int**  정수 : 0,1,2,3, -1,-2\n",
    "*   **float** 부동소수점 : 1.1,  0.1,  .1 \n",
    "*   **bool** 불리언  : True, False\n",
    "*   **str**  문자열 : '안녕', '1.1', '0.1', \"1.1\"  (따옴표, 겹따옴표 모두 OK)\n",
    "\n",
    "\n"
   ]
  },
  {
   "cell_type": "markdown",
   "metadata": {
    "id": "gKL5XQSWlcbh"
   },
   "source": [
    "### **string (문자열)**\n",
    "\n",
    "\n"
   ]
  },
  {
   "cell_type": "markdown",
   "metadata": {
    "id": "c-rMcDziFS03"
   },
   "source": [
    "\n",
    "#### 1) 문자열이란? \n",
    " - 복수개의 문자를 순서대로 나열 한 것\n",
    " - 문자열은 '(작은따옴표) 혹은 \"(큰따옴표) 사이에 문자를 넣어서 생성\n",
    " - 문자열 자체에 ', \"가 있는 경우에는 각각 그 반대의 기호로 생성\n",
    "\n",
    "**[연습문제]**\n",
    "```\n",
    "a = 'Hello World'\n",
    "b = \"Hello World\"\n",
    "\n",
    "print(a)\n",
    "print(b)\n",
    "```"
   ]
  },
  {
   "cell_type": "code",
   "execution_count": 1,
   "metadata": {
    "id": "alVop9uMBUoS"
   },
   "outputs": [
    {
     "name": "stdout",
     "output_type": "stream",
     "text": [
      "Hello World\n",
      "Hello World\n"
     ]
    }
   ],
   "source": [
    "a='Hello World'\n",
    "b=\"Hello World\"\n",
    "print(a)\n",
    "print(b)"
   ]
  },
  {
   "cell_type": "markdown",
   "metadata": {
    "id": "X_mJ1HOj0pFf"
   },
   "source": [
    "**[연습문제]** \n",
    "\n",
    "```\n",
    "다음과 같은 결과가 나오게 해보자. \n",
    "\"Hello\" World\n",
    "'Hello' World\n",
    "```"
   ]
  },
  {
   "cell_type": "raw",
   "metadata": {
    "id": "mFhXAsUfDEeb"
   },
   "source": [
    "a = '\"Hello\" World'\n",
    "b = \"'Hello' World\"\n",
    "\n",
    "print(a)\n",
    "print(b)"
   ]
  },
  {
   "cell_type": "markdown",
   "metadata": {
    "id": "xdy7wfJ2DaAj"
   },
   "source": [
    "\n",
    "#### **2) 문자열 입력하기**\n",
    "아래와 같이 나오게 하려면 어떻게 해야할까? \n",
    "\n",
    "```\n",
    "Hello World. \n",
    "It's wonderful world\n",
    "\n",
    "```"
   ]
  },
  {
   "cell_type": "code",
   "execution_count": null,
   "metadata": {
    "id": "95QtZrL2Fkbt"
   },
   "outputs": [],
   "source": [
    "c= \"Hello World.\n",
    "It's wonderful world\"\n",
    "\n",
    "print(c)"
   ]
  },
  {
   "cell_type": "markdown",
   "metadata": {
    "id": "K3YmrxZvlcbk"
   },
   "source": [
    "#### 3) **여러줄에 걸친 문자열 표현**\n",
    "  - ''' ''',  \"\"\"     \"\"\" : 따옴표를 앞 뒤에 모두 세번씩 써야 함!"
   ]
  },
  {
   "cell_type": "code",
   "execution_count": null,
   "metadata": {
    "id": "7Uyykxu4lcbk"
   },
   "outputs": [],
   "source": [
    "c = \"\"\"Hello World. \n",
    "It's wonderful world\\n\"\"\"\n",
    "\n",
    "d = '''Good Morning,\n",
    "How are you?'''\n",
    "\n",
    "print(c)\n",
    "print(d)"
   ]
  },
  {
   "cell_type": "markdown",
   "metadata": {
    "id": "vIsadi5rlcbl"
   },
   "source": [
    "#### 4) escape string (이스케이프 문자)\n",
    "* 문자열내에서 문자 자체의 의미 보다는 `특정한 효과`를 주기 위해 사용하는 것\n",
    "* `\\n` : new line `\\t` : tab 등\n",
    "\n",
    "\n",
    "**[연습문제]**\n",
    "```\n",
    "print('Hello World')\n",
    "print('Hahahaha')\n",
    "\n",
    "print('Hello World\\n\\n')\n",
    "print('Ha\\thahaha')\n",
    "```\n",
    "\n"
   ]
  },
  {
   "cell_type": "code",
   "execution_count": null,
   "metadata": {
    "id": "vzwUQ7illcbl"
   },
   "outputs": [],
   "source": [
    "print('Hello World\\n\\n\\n')\n",
    "print('Ha\\thahahah')"
   ]
  },
  {
   "cell_type": "markdown",
   "metadata": {
    "id": "4gEyZr90lcbm"
   },
   "source": [
    "#### 5) **indexing & slicing string (문자열 인덱스 및 추출)** (ppt)\n",
    "  - 문자열의 각 문자는 순서가 있음\n",
    "  - 이때 각 문자열의 순서(위치 값)를 **인덱스** 라고 함\n",
    "  - 첫번째 문자부터 마지막까지 차례대로의 순서를 가짐\n",
    "  - 첫번째 시작문자의 순서는 0으로 시작 (1이 아님)\n",
    "  - 해당 문자열 이름뒤에 대괄호를 이용하여 인덱스 번호를 적어줌"
   ]
  },
  {
   "cell_type": "markdown",
   "metadata": {
    "id": "Z8_SDPbMlcbm"
   },
   "source": [
    "**[연습문제]**\n",
    " - 'Hello World' 문자열의 마지막 문자 'd'의 순서의 값(인덱스)는 무엇인가?\n",
    " - 인덱스를 이용하여 마지막 문자 'd'를 출력하시오!"
   ]
  },
  {
   "cell_type": "raw",
   "metadata": {
    "id": "3g6yid5ulcbn"
   },
   "source": [
    "a='Hello World'\n",
    "a[10]"
   ]
  },
  {
   "cell_type": "markdown",
   "metadata": {
    "id": "74WIXK-0lcbn"
   },
   "source": [
    "#### 6) **-1 인덱스**\n",
    "  - 다른 언어와는 달리, python의 경우 음수 인덱스를 지원\n",
    "  - '-'는 '뒤에서' 라는 의미\n",
    "  - -1이 가장 마지막 인덱스를, -2가 마지막에서 두번째 인덱스를 의미...\n",
    "  \n",
    "```\n",
    "a = 'Hello World'\n",
    "\n",
    "print(a[0])\n",
    "print(a[10])\n",
    "print(a[-1])\n",
    "print(a[-2])\n",
    "print(a[-11])\n",
    "\n",
    "```"
   ]
  },
  {
   "cell_type": "code",
   "execution_count": 6,
   "metadata": {},
   "outputs": [
    {
     "data": {
      "text/plain": [
       "'H'"
      ]
     },
     "execution_count": 6,
     "metadata": {},
     "output_type": "execute_result"
    }
   ],
   "source": [
    "a = 'Hello World'\n",
    "a[0]"
   ]
  },
  {
   "cell_type": "code",
   "execution_count": null,
   "metadata": {},
   "outputs": [],
   "source": []
  },
  {
   "cell_type": "markdown",
   "metadata": {
    "id": "5rXCV288lcbn"
   },
   "source": [
    "#### 7) **인덱스의 범위**\n",
    "  - 인덱스는 [0, 문자열의 길이-1] 의 범위만 유효\n",
    "  - 음수 인덱스를 사용할 경우, [-문자열의 길이, -1]\n",
    "  - 범위를 넘어갈 경우 에러 발생\n",
    "  - print(a[11])\n",
    "  - print(a[-12])"
   ]
  },
  {
   "cell_type": "code",
   "execution_count": null,
   "metadata": {
    "id": "mTY0KxH9lcbo"
   },
   "outputs": [],
   "source": []
  },
  {
   "cell_type": "markdown",
   "metadata": {
    "id": "sAfZAVGslcbo"
   },
   "source": [
    "#### **문자열 slicing**\n",
    "  - 인덱스가 하나의 문자만을 추출한다면, slicing은 문자열 일부분을 추출함\n",
    "  - [시작:끝]와 같이 명시하여 [시작, 끝)에 해당하는 부분 문자열을 추출\n",
    "    - 즉 [a:b] 라면 인덱스번호 a에서 시작하여  b-1까지 포함함\n",
    "    \n",
    "  - 시작, 끝 중 한 쪽 인덱스가 생략이 되어 있다면, 0부터 혹은 끝까지로 간주\n",
    "      - [ :5 ] : 0부터 4까지\n",
    "      - [ 3: ] : 3부터 끝까지\n",
    "      - [ : ] : 처음부터 끝까지"
   ]
  },
  {
   "cell_type": "markdown",
   "metadata": {
    "id": "wZvKNYICEbdo"
   },
   "source": [
    "**연습문제**\n",
    "- 아래와 같이 인덱스를 넣어 출력해 보자. \n",
    "\n",
    "```\n",
    "a = 'Hello world'\n",
    "\n",
    "print(a[0:10])\n",
    "\n",
    "print(a[0:11])\n",
    "print(a[0:1])\n",
    "\n",
    "print(a[:5])\n",
    "print(a[3:])\n",
    "\n",
    "print(a[:])\n",
    "print(a)\n",
    "```\n",
    "\n"
   ]
  },
  {
   "cell_type": "code",
   "execution_count": null,
   "metadata": {
    "id": "gPwbJvm9lcbo"
   },
   "outputs": [],
   "source": []
  },
  {
   "cell_type": "markdown",
   "metadata": {
    "id": "mmtQYqfslcbo"
   },
   "source": [
    "#### **문자열 함수**\n",
    "  - 문자열은 여러가지 기능을 제공하는 문자열 함수를 내장함\n",
    "  - 예: 대문자로 변경, 치환 등 "
   ]
  },
  {
   "cell_type": "markdown",
   "metadata": {
    "id": "qyLVCwbDlcbp"
   },
   "source": [
    "* **upper** \n",
    " - 대문자로 변경\n",
    "```\n",
    "a = 'hello world'\n",
    "a.upper()\n",
    "```\n",
    "\n"
   ]
  },
  {
   "cell_type": "code",
   "execution_count": 26,
   "metadata": {
    "id": "Zh0vqGa7lcbp"
   },
   "outputs": [],
   "source": []
  },
  {
   "cell_type": "markdown",
   "metadata": {
    "id": "hncvy-j-lcbp"
   },
   "source": [
    "* **replace** \n",
    " - 문자열 내의 특정 문자를 치환\n",
    "```\n",
    "a = 'hello world'\n",
    "a.replace('h', 'j')\n",
    "a\n",
    "```"
   ]
  },
  {
   "cell_type": "code",
   "execution_count": null,
   "metadata": {},
   "outputs": [],
   "source": []
  },
  {
   "cell_type": "markdown",
   "metadata": {
    "id": "1UO0MVkrlcbq"
   },
   "source": [
    "* **format**\n",
    " - 문자열내의 특정한 값을 변수로부터 초기화하여 동적으로 문자열을 생성 "
   ]
  },
  {
   "cell_type": "code",
   "execution_count": 12,
   "metadata": {},
   "outputs": [
    {
     "name": "stdout",
     "output_type": "stream",
     "text": [
      "오늘 기온25.5도 이고, 비올 확률은 80.0% 입니다.\n"
     ]
    }
   ],
   "source": [
    "temperature = 25.52\n",
    "prob = 80.03\n",
    "a = '오늘 기온{}도 이고, 비올 확률은 {}% 입니다.'.format(temperature, prob)\n",
    "print(a)"
   ]
  },
  {
   "cell_type": "code",
   "execution_count": null,
   "metadata": {},
   "outputs": [],
   "source": []
  },
  {
   "cell_type": "markdown",
   "metadata": {},
   "source": [
    "temperature = 35.56, prob = 90.021 으로 변경해 보자!"
   ]
  },
  {
   "cell_type": "code",
   "execution_count": 16,
   "metadata": {
    "id": "uKmCh-6cJ8MT",
    "outputId": "74a5a263-74f7-4c45-926a-d4f8993a3b54"
   },
   "outputs": [
    {
     "name": "stdout",
     "output_type": "stream",
     "text": [
      "오늘 기온25.5도 이고, 비올 확률은 80.0% 입니다.\n"
     ]
    }
   ],
   "source": [
    "#소수 첫째자리까지 표시 \n",
    "# : (콜론) + .1(소수점자리) + f(float)\n",
    "\n",
    "a = '오늘 기온{:.1f}도 이고, 비올 확률은 {:.1f}% 입니다.'.format(temperature, prob)\n",
    "print(a)"
   ]
  },
  {
   "cell_type": "raw",
   "metadata": {},
   "source": [
    "#참고!\n",
    "a=24.34\n",
    "print('%.1f'%a)"
   ]
  },
  {
   "cell_type": "code",
   "execution_count": null,
   "metadata": {},
   "outputs": [],
   "source": []
  },
  {
   "cell_type": "markdown",
   "metadata": {
    "id": "AR4BiJzrlcbq"
   },
   "source": [
    "* **split**\n",
    " - 지정한 특정 문자를 기준으로 문자열을 분리하여 여러개의 리스트로 치환"
   ]
  },
  {
   "cell_type": "raw",
   "metadata": {
    "id": "FpSdhFJelcbq"
   },
   "source": [
    "a = 'hello world what a nice weather'\n",
    "a.split('w')"
   ]
  },
  {
   "cell_type": "code",
   "execution_count": null,
   "metadata": {},
   "outputs": [],
   "source": []
  }
 ],
 "metadata": {
  "colab": {
   "collapsed_sections": [],
   "name": "Day2_1 (2) 기본데이터타입_문자열.ipynb",
   "provenance": [
    {
     "file_id": "1rXx79_tev1hfIPidgbG6rWIzbSWCIA2W",
     "timestamp": 1648043006985
    }
   ],
   "toc_visible": true
  },
  "kernelspec": {
   "display_name": "Python 3",
   "language": "python",
   "name": "python3"
  },
  "language_info": {
   "codemirror_mode": {
    "name": "ipython",
    "version": 3
   },
   "file_extension": ".py",
   "mimetype": "text/x-python",
   "name": "python",
   "nbconvert_exporter": "python",
   "pygments_lexer": "ipython3",
   "version": "3.7.4"
  }
 },
 "nbformat": 4,
 "nbformat_minor": 1
}
