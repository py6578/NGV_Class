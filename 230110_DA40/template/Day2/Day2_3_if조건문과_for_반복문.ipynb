{
 "cells": [
  {
   "cell_type": "markdown",
   "metadata": {
    "id": "_j13iORgug6j"
   },
   "source": [
    "# **if 조건문**\n",
    "프로그램이 결정을 내릴 수 있게 하여 프로그램 실행 흐름을 변경하는데 사용됨. \n",
    "\n",
    "\n"
   ]
  },
  {
   "cell_type": "markdown",
   "metadata": {
    "id": "-DAkroYhQ77k"
   },
   "source": [
    "## (1) if 조건문 기본 구문 이해  \n",
    "**if 조건문 형식** \n",
    "```\n",
    "if 조건문:\n",
    "  조건이 참(true)인 경우 실행할 내용 \n",
    "elif 조건문:\n",
    "  다음 조건이 참(true)인 경우 실행할 내용 \n",
    "else:\n",
    "  조건들이 모두 false 일때 실행할 내용 \n",
    "```"
   ]
  },
  {
   "cell_type": "raw",
   "metadata": {
    "id": "gMjK_aKfV6wJ",
    "outputId": "15796ea1-c230-4105-dc47-1a25cdeaa2eb"
   },
   "source": [
    "# num 에 100 입력후, \n",
    "# num 가 5보다 큰 수가 입력되면 '5보다 크다', 5보다 작은 수가 입력되면 '5보다 작다'라고 출력하기 \n",
    "\n",
    "num =100\n",
    "if num >5:\n",
    "    print('5보다 크다')\n",
    "else:\n",
    "    print('5보다 작다')"
   ]
  },
  {
   "cell_type": "code",
   "execution_count": null,
   "metadata": {},
   "outputs": [],
   "source": []
  },
  {
   "cell_type": "markdown",
   "metadata": {
    "id": "3YuuSdWXUDij"
   },
   "source": [
    "## (2) input()함수 알아두기\n",
    "사용자가 어떤 값을 입력하게 하고 그 값을 변수로 저장할 수 있음. "
   ]
  },
  {
   "cell_type": "raw",
   "metadata": {
    "id": "Bs8KBJ6xW4Kx"
   },
   "source": [
    "x=input()   #숫자 10을 넣어보자!\n",
    "type(x)"
   ]
  },
  {
   "cell_type": "markdown",
   "metadata": {
    "id": "H0Bm2gDRWt8o"
   },
   "source": [
    "- 기본적으로 문자열을 입력 받음.\n",
    "- 정수나 실수를 입력 받고 싶다면 변환 함수를 사용(int(), float())\n",
    "```\n",
    "x = int(input()) #정수\n",
    "y = float(input()) #실수 \n",
    "```"
   ]
  },
  {
   "cell_type": "raw",
   "metadata": {},
   "source": [
    "x=int(input())\n",
    "x"
   ]
  },
  {
   "cell_type": "code",
   "execution_count": null,
   "metadata": {},
   "outputs": [],
   "source": []
  },
  {
   "cell_type": "markdown",
   "metadata": {
    "id": "k35DdqzGIpZ-"
   },
   "source": [
    "[실습] if 조건문 만들기 \n",
    "- num이라는 변수에 숫자를 받아서 다음 조건에 따라 출력 메시지를 내는 if조건문 만들기\n",
    "  - 숫자가 10보다 크면 '10보다 크다'\n",
    "  - 숫자가 10이면 '10과 같다'\n",
    "  - 숫자가 10보다 작으면 '10보다 작다'\n",
    "- num 변수에 1,  10,  100 넣어서 결과 보기 \n",
    "\n",
    "**[참고] 비교 연산자**\n",
    "  - == : ~와 같다\n",
    "  - != : ~와 같지 않다\n",
    "  - \\>  : ~보다 크다 \n",
    "  - <  : ~보다 작다 \n",
    "  - \\>=  : ~보다 크거나 같다 \n",
    "  - <= : ~보다 작거나 같다 \n",
    "\n"
   ]
  },
  {
   "cell_type": "raw",
   "metadata": {
    "id": "WKfvMTUFKxse"
   },
   "source": [
    "# input() 사용하여 2개의 숫자를 직접 입력받기 \n",
    "\n",
    "num1 = int(input(\"Enter first number: \"))\n",
    "num2 = int(input(\"Enter second number\"))\n",
    "print('첫번째 숫자 {}, 두번째 숫자 {}'.format(num1,num2))"
   ]
  },
  {
   "cell_type": "code",
   "execution_count": null,
   "metadata": {},
   "outputs": [],
   "source": []
  },
  {
   "cell_type": "markdown",
   "metadata": {
    "id": "DWWeL1s8OH_m"
   },
   "source": [
    "## (3) if문에서 논리연산자 사용 \n",
    "**논리 연산자** \n",
    "- and: 두 조건 모두 충족\n",
    "- or: 두 조건 중 하나라도 충족 \n",
    "\n",
    "**[실습]** 숫자를 10~20 사이의 숫자를 입력받은 한 후, 숫자가 10 ~20 숫자이면 'Good Job', 그렇지 않으면 'out of range'라고 표시한다. \n"
   ]
  },
  {
   "cell_type": "code",
   "execution_count": null,
   "metadata": {
    "id": "gG6LZaJQOm3Y"
   },
   "outputs": [],
   "source": [
    "num= int(input(\"Enter between 10~20:\"))\n",
    "if (num>10 and num<20):      # 이후를 작성해 보세요!\n",
    "    \n",
    "    "
   ]
  },
  {
   "cell_type": "markdown",
   "metadata": {
    "id": "UtVa82gwU4DT"
   },
   "source": [
    "**[실습]** 1,2,3 중 하나의 숫자를 입력하라고 한다. \n",
    "만약 1을 입력하면 'You are the best!' \n",
    "만약 2를 입력하면 'You are correct'\n",
    "만약 3을 입력하면 'Good job!' \n",
    "그 외의 숫자를 입력하면 'No way!'"
   ]
  },
  {
   "cell_type": "code",
   "execution_count": 5,
   "metadata": {},
   "outputs": [],
   "source": [
    "#혼자서 해봅시다. \n",
    "\n"
   ]
  },
  {
   "cell_type": "markdown",
   "metadata": {
    "id": "8Opoyp32iDlR"
   },
   "source": [
    "# **for 반복문**\n",
    " - 리스트, 문자열 등 컬렉션 타입의 아이템을 하나씩 순회하면서 처리 가능\n",
    " - 아래와 같은 문법으로 사용\n",
    " \n",
    "```python\n",
    "a = [1, 2, 4, 3, 5]\n",
    "for i in a:\n",
    "    print (i, i * 2)    <-- **들여쓰기** 를 통해 for 코드블럭임을 명시!\n",
    "```\n",
    "\n",
    "- 여기서 i는 매번 수행 될 때마다, a의 아이템으로 순차적으로 변경 됨\n",
    "- 모든 아이템을 순회하고 나면 자동으로 for 블록 종료  \n",
    "\n",
    "**코드 '들여쓰기' 중요!!!** \n",
    "- 파이썬에서 들여쓰기 방법: (Tap키 또는 Space키) 사용 \n",
    "- 의미: 들여쓰기 된 코드는 다른 코드에 의존적임을 나타냄. "
   ]
  },
  {
   "cell_type": "markdown",
   "metadata": {
    "id": "D2l4tx4FiDlV"
   },
   "source": [
    "### 1. for - 리스트 아이템 출력하기"
   ]
  },
  {
   "cell_type": "raw",
   "metadata": {
    "id": "nAbXEYCjJwBY"
   },
   "source": [
    "a = [1, 2, 4, 3, 5]\n",
    "for i in a:                 # i는 처음부터 순차적으로 a의 아이템을 의미하게 됨. \n",
    "    print (i)        # (주의!: print 시에도 a[i]로 표현하지 않고 그냥 i라고 표현)\n",
    "print('End of For')"
   ]
  },
  {
   "cell_type": "code",
   "execution_count": null,
   "metadata": {},
   "outputs": [],
   "source": []
  },
  {
   "cell_type": "raw",
   "metadata": {
    "id": "euSD9b73iDlX"
   },
   "source": [
    "a = [1, 2, 4, 3, 5]\n",
    "for i in a:                 \n",
    "    print (i, i * 2)        \n",
    "print('End of For')"
   ]
  },
  {
   "cell_type": "code",
   "execution_count": null,
   "metadata": {},
   "outputs": [],
   "source": []
  },
  {
   "cell_type": "markdown",
   "metadata": {
    "id": "xbexNfkTqQQZ"
   },
   "source": [
    "**[생각해보기] 1~10까지 수 print**\n"
   ]
  },
  {
   "cell_type": "raw",
   "metadata": {
    "id": "Dh69W-YkiDlc"
   },
   "source": [
    "# 정수형 데이터는 컬렉션 타입이 아니므로 for를 이용하여 순회할 수 없음\n",
    "\n",
    "for i in 10:\n",
    "    print(i)"
   ]
  },
  {
   "cell_type": "code",
   "execution_count": null,
   "metadata": {},
   "outputs": [],
   "source": []
  },
  {
   "cell_type": "raw",
   "metadata": {},
   "source": [
    "a=[1,2,3,4,5,6,7,8,9,10]   # 리스트나 문자열에서만 for를 이용한 순회가 가능!\n",
    "\n",
    "for i in a:\n",
    "    print(i)"
   ]
  },
  {
   "cell_type": "code",
   "execution_count": null,
   "metadata": {},
   "outputs": [],
   "source": []
  },
  {
   "cell_type": "code",
   "execution_count": 11,
   "metadata": {
    "id": "6wLIOkCkiDle"
   },
   "outputs": [],
   "source": [
    "# 그럼 1~100까지 정수를 print하려면?\n"
   ]
  },
  {
   "cell_type": "code",
   "execution_count": 14,
   "metadata": {},
   "outputs": [],
   "source": [
    "#while문으로 바꾸면?\n"
   ]
  },
  {
   "cell_type": "code",
   "execution_count": 15,
   "metadata": {},
   "outputs": [],
   "source": [
    "# while 문을 이용하여 100~1까지 정수를 역으로 print하려면?\n"
   ]
  },
  {
   "cell_type": "markdown",
   "metadata": {
    "id": "IFroKszjiDlg"
   },
   "source": [
    "###  2. for - 문자열의 아이템 출력하기\n",
    " - 문자열의 경우 순회 가능, 리스트와 유사하게 순회 가능"
   ]
  },
  {
   "cell_type": "raw",
   "metadata": {
    "id": "weJeEVuyiDll"
   },
   "source": [
    "a = 'Hyundae NGV'\n",
    "for i in a:\n",
    "    print(i)"
   ]
  },
  {
   "cell_type": "code",
   "execution_count": 16,
   "metadata": {},
   "outputs": [],
   "source": [
    "a = 'Hyundae NGV'\n"
   ]
  },
  {
   "cell_type": "markdown",
   "metadata": {
    "id": "A4bWtQaLiDln"
   },
   "source": [
    "### 3. 조건문과 결합된 for 구문 - 리스트 아이템 출력하기\n",
    "- 리스트에 들어있는 숫자가 짝수일때는 2로 나눈 \n",
    "몫을 출력, 홀수이면 1을 더한 값을 출력해 보자."
   ]
  },
  {
   "cell_type": "raw",
   "metadata": {
    "id": "PL7PHiPtiDlo"
   },
   "source": [
    "a = [1, 10, 3, 4, 5]\n",
    "\n",
    "for i in a:\n",
    "    if (i % 2 == 0):   # 짝수인 경우\n",
    "        print(i//2)     # 2로 나눈 몫을 출력\n",
    "    else:                # 홀수인 경우\n",
    "        print(i+1)     # +1을 하여 출력"
   ]
  },
  {
   "cell_type": "code",
   "execution_count": 17,
   "metadata": {},
   "outputs": [],
   "source": [
    "a = [1, 10, 3, 4, 5]\n",
    "\n"
   ]
  },
  {
   "cell_type": "markdown",
   "metadata": {
    "id": "yua9ryXHiDlr"
   },
   "source": [
    "### 4. for -  딕셔너리의 아이템 (key, value) 출력하기\n",
    "  - dictionary의 경우 기본적으로 순회하게 되면 key값을 참조\n",
    "  - values()함수를 이용하여 value 값만 순회 가능\n",
    "  - items()함수를 이용하여 tuple형태로 key, value 순회 가능"
   ]
  },
  {
   "cell_type": "raw",
   "metadata": {
    "id": "zg_MxLyiiDlt"
   },
   "source": [
    "a = {'korea': 'seoul', 'japan': 'tokyo', 'canada': 'ottawa'}\n",
    "for key in a:                         \n",
    "    print(key)   # 기본 순회시 key만 가져옴!"
   ]
  },
  {
   "cell_type": "code",
   "execution_count": 18,
   "metadata": {},
   "outputs": [],
   "source": [
    "a = {'korea': 'seoul', 'japan': 'tokyo', 'canada': 'ottawa'}\n"
   ]
  },
  {
   "cell_type": "raw",
   "metadata": {
    "id": "pQVyMV11iDlv"
   },
   "source": [
    "a = {'korea': 'seoul', 'japan': 'tokyo', 'canada': 'ottawa'}\n",
    "for key in a:\n",
    "    print(key, a[key])   # a[key] 부분이 value를 가져옴"
   ]
  },
  {
   "cell_type": "code",
   "execution_count": 20,
   "metadata": {},
   "outputs": [],
   "source": [
    "a = {'korea': 'seoul', 'japan': 'tokyo', 'canada': 'ottawa'}\n",
    "\n"
   ]
  },
  {
   "cell_type": "code",
   "execution_count": null,
   "metadata": {},
   "outputs": [],
   "source": [
    "a.values()"
   ]
  },
  {
   "cell_type": "raw",
   "metadata": {
    "id": "431jN0MKiDlx"
   },
   "source": [
    "for i in a.values():          # value 만 출력\n",
    "    print(i)"
   ]
  },
  {
   "cell_type": "code",
   "execution_count": null,
   "metadata": {},
   "outputs": [],
   "source": []
  },
  {
   "cell_type": "markdown",
   "metadata": {
    "id": "M3arNKviiDlz"
   },
   "source": [
    "### 5. for 에서 index 를 사용하려면 어떻게 해야 할까? - enumerate()!\n",
    "  - 기본적으로 for에 리스트를 순회하는 경우, 값만 추출 함\n",
    "  - 아래와 같은 코드로 인덱스와 값 모두 사용 가능(enumerate 함수 이용)\n",
    "  - enumerate함수: 인자로 넘어온 목록을 기준으로 인덱스와 원소를 차례대로 접근하게 해주는 반복자(iterator) 객체를 반환해주는 함수\n"
   ]
  },
  {
   "cell_type": "code",
   "execution_count": 44,
   "metadata": {},
   "outputs": [
    {
     "name": "stdout",
     "output_type": "stream",
     "text": [
      "A\n",
      "B\n",
      "C\n",
      "D\n"
     ]
    }
   ],
   "source": [
    "a = ['A','B','C','D']\n",
    "for i in a:  \n",
    "    print (i)"
   ]
  },
  {
   "cell_type": "code",
   "execution_count": 26,
   "metadata": {},
   "outputs": [
    {
     "name": "stdout",
     "output_type": "stream",
     "text": [
      "0 A\n",
      "1 B\n",
      "2 C\n",
      "3 D\n"
     ]
    }
   ],
   "source": [
    "a = ['A','B','C','D']\n",
    "for i,j in enumerate(a):   #i 가 index\n",
    "    print (i, j)"
   ]
  },
  {
   "cell_type": "code",
   "execution_count": null,
   "metadata": {},
   "outputs": [],
   "source": []
  },
  {
   "cell_type": "raw",
   "metadata": {
    "id": "IyXbjOE8iDl2"
   },
   "source": [
    "a = [1, 2, 3, 4, 5]\n",
    "for i, j in enumerate(a):\n",
    "    if i > 3:                 # 이제 index를 사용해서 조건문을 만들 수 있음!\n",
    "        print(i, j)         # index가 4인 마지막 값(5) 만 print!"
   ]
  },
  {
   "cell_type": "code",
   "execution_count": null,
   "metadata": {},
   "outputs": [],
   "source": []
  },
  {
   "cell_type": "markdown",
   "metadata": {
    "id": "dpwN-7DciDl3"
   },
   "source": [
    "### 6. for문에서의 break\n",
    "  - 특정 조건일 때, 반복실행(loop)의 종료가 가능"
   ]
  },
  {
   "cell_type": "raw",
   "metadata": {
    "id": "pDjQFr1MiDl5",
    "outputId": "d9aebef1-7cef-44a6-d418-687bc7f742d9"
   },
   "source": [
    "a = [100, 90, 80, 70, 60, 50]\n",
    "for i in a:\n",
    "    if i < 80:\n",
    "        break\n",
    "    print(i)"
   ]
  },
  {
   "cell_type": "code",
   "execution_count": 28,
   "metadata": {},
   "outputs": [],
   "source": [
    "a = [100, 90, 80, 70, 90, 100]    # break 가 없을 때\n"
   ]
  },
  {
   "cell_type": "raw",
   "metadata": {},
   "source": [
    "# 만약 a = [100, 90, 80, 70, 90, 100] 이라면?\n",
    "# 직접 확인해 보자!"
   ]
  },
  {
   "cell_type": "code",
   "execution_count": 30,
   "metadata": {},
   "outputs": [],
   "source": [
    "a = [100, 90, 80, 70, 90, 100] \n"
   ]
  },
  {
   "cell_type": "markdown",
   "metadata": {
    "id": "YOTce5hAiDl6"
   },
   "source": [
    "### 7. for 문에서의  continue\n",
    " - 특정조건에서 건너 뛰고 싶을 때 사용"
   ]
  },
  {
   "cell_type": "raw",
   "metadata": {
    "id": "gjTAPQtHiDl6",
    "outputId": "420ec397-ec95-4f8d-82e3-98a5b707e314"
   },
   "source": [
    "a = [100, 90, 80, 67, 65, 50]\n",
    "for i in a:\n",
    "    if (i >= 60 and i <= 70):     # a[]에서 60, 70 이 해당!\n",
    "        continue\n",
    "    print(i)"
   ]
  },
  {
   "cell_type": "code",
   "execution_count": 32,
   "metadata": {},
   "outputs": [],
   "source": [
    "a = [100, 90, 80, 67, 65, 50]\n"
   ]
  },
  {
   "cell_type": "markdown",
   "metadata": {
    "id": "ooYjDJL3iDl8"
   },
   "source": [
    "### 8. loop 중첩\n",
    "  - 반복문의 경우에도 중첩하여 사용 가능\n",
    "  - 중첩이라는 것은 반복문 코드블록 안에 또 반복문의 코드가 작성되는 것을 의미\n",
    "  - 이런 경우, 내부 루프가 완료된 후 외부 루프는 한 단계씩 진행됨\n",
    "  - 또한 중첩의 경우 무한히 가능"
   ]
  },
  {
   "cell_type": "raw",
   "metadata": {
    "id": "mzBBwIjLiDl8",
    "outputId": "a69c4e98-a058-4c1c-ab9c-1c355c9da1c8"
   },
   "source": [
    "a = [1, 2, 4]\n",
    "for i in a:       \n",
    "    for j in a:   \n",
    "        print(i,j,i * j)    # (1*1, 1*2, 1*4),  (2*1, 2*2, 2*4), (4*1, 4*2, 4*4)        "
   ]
  },
  {
   "cell_type": "code",
   "execution_count": 33,
   "metadata": {},
   "outputs": [],
   "source": [
    "a = [1, 2, 4]\n"
   ]
  },
  {
   "cell_type": "markdown",
   "metadata": {
    "id": "0FMu9e0iiDl9"
   },
   "source": [
    "### 9. 연습문제 - 구구단 출력하기"
   ]
  },
  {
   "cell_type": "markdown",
   "metadata": {
    "id": "3LOgduuDiDl-"
   },
   "source": [
    "* 2 * 1 = 2 \n",
    "* 2 * 2 = 4\n",
    "* 2 * 3 = 6\n",
    "* ...\n",
    "* 2 * 9 = 18\n",
    "* 3 * 1 = 3\n",
    "* ..\n",
    "* 3 * 9 = 27\n",
    "* ...\n",
    "* 9 * 1 = 9\n",
    "* ...\n",
    "* 9 * 9 = 81"
   ]
  },
  {
   "cell_type": "code",
   "execution_count": 34,
   "metadata": {},
   "outputs": [],
   "source": [
    "# 혼자서 해봅시다!\n",
    "x = [2, 3, 4, 5, 6, 7, 8, 9]       #x=list(range(2,10))\n",
    "y = [1, 2, 3, 4, 5, 6, 7, 8, 9]    # list(range(1,10))  \n",
    "\n",
    "\n",
    "\n",
    "\n",
    "\n",
    "\n"
   ]
  }
 ],
 "metadata": {
  "colab": {
   "collapsed_sections": [],
   "provenance": [],
   "toc_visible": true
  },
  "kernelspec": {
   "display_name": "Python 3",
   "language": "python",
   "name": "python3"
  },
  "language_info": {
   "codemirror_mode": {
    "name": "ipython",
    "version": 3
   },
   "file_extension": ".py",
   "mimetype": "text/x-python",
   "name": "python",
   "nbconvert_exporter": "python",
   "pygments_lexer": "ipython3",
   "version": "3.7.4"
  }
 },
 "nbformat": 4,
 "nbformat_minor": 1
}
