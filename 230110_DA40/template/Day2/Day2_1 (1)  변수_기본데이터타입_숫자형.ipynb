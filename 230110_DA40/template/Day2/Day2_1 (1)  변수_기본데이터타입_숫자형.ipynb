{
 "cells": [
  {
   "cell_type": "markdown",
   "metadata": {
    "id": "6MeQibg8nAXu"
   },
   "source": [
    "# **파이썬 기초 문법** "
   ]
  },
  {
   "cell_type": "markdown",
   "metadata": {
    "id": "rjbytmHCyw4I"
   },
   "source": [
    "다음과 같은 두 개의 식을 계산하는 코드를 생각해 보자. \n",
    "\n",
    "* (식1) 12345 x 3 + 12345 x 3\n",
    "\n",
    "* (식2) 12345 x 3 - 12345 x 3\n",
    "\n",
    "**(12345 x 3)의 불필요한 계산 반복**\n",
    "\n",
    " x1=12345*3  <-- 변수 x1을 먼저 설정한 후, \n",
    "\n",
    "\n",
    "* 식1) x1+x1\n",
    "* 식2) x1-x1 "
   ]
  },
  {
   "cell_type": "markdown",
   "metadata": {
    "id": "v_9aTX3NbHix"
   },
   "source": [
    "###  **변수**\n",
    "### (1) 변수란?  데이터를 저장하는 공간\n",
    "\n",
    " * 변수명 = (대입연산자) 저장할 값\n",
    "  * a = 10\n",
    "* 변수명 = 계산식 \n",
    "  * b = 5+3 \n",
    "\n",
    "### (2) 변수 대입하기 \n",
    "\n",
    " * 대입이란?  \n",
    "  * 오른쪽의 수식이나 값을 왼쪽에 명시된 변수에 넣는다!\n",
    "    * 대입을 하게 되면 변수는 해당 값을 가지게 됨\n",
    "  *  **=**  (대입 연산자) 사용 \n",
    "    * (cf) **==** (비교 연산자) (뒤에 설명) \n",
    "\n"
   ]
  },
  {
   "cell_type": "markdown",
   "metadata": {
    "id": "ds8c-BzE7IZQ"
   },
   "source": [
    "**첫번째 a와 두번째 a가 다름을 확인하자.**\n",
    "\n",
    "```\n",
    "a=2\n",
    "print(a)\n",
    "a=8\n",
    "print(a) \n",
    "```\n"
   ]
  },
  {
   "cell_type": "code",
   "execution_count": null,
   "metadata": {},
   "outputs": [],
   "source": []
  },
  {
   "cell_type": "markdown",
   "metadata": {
    "id": "-pFlToaE7rKd"
   },
   "source": [
    "**특정변수의 값 출력 및 연산**\n",
    "```\n",
    "x1=125*13\n",
    "x2=356*17\n",
    "print(x1)\n",
    "print(x2)\n",
    "print(x1+x2)\n",
    "```\n",
    "\n"
   ]
  },
  {
   "cell_type": "code",
   "execution_count": null,
   "metadata": {},
   "outputs": [],
   "source": []
  },
  {
   "cell_type": "markdown",
   "metadata": {
    "id": "-1xVwTDkbHix"
   },
   "source": [
    "**[연습문제]**\n",
    " - a = 10\n",
    " - b = 20.5\n",
    " - c =  b\n",
    "- print (a, b, c) 하면?"
   ]
  },
  {
   "cell_type": "code",
   "execution_count": null,
   "metadata": {},
   "outputs": [],
   "source": []
  },
  {
   "cell_type": "markdown",
   "metadata": {
    "id": "NI-vgR4xbHiy"
   },
   "source": [
    "# (3) **None**\n",
    "\n",
    "•아무런 값을 갖지 않을 때 사용 (즉 변수를 생성은 하되 할당할 값이 정해지지 않았을 때)\n",
    "\n",
    "\n",
    "•일반적으로 변수가 초기값을 갖지 않게 하여 아래와 같이 생성할 수 없음. 반드시 값을 지정해주어야만 변수 생성이 완료됨\n",
    "\n",
    "```\n",
    "   aa = 100    #(O)\n",
    "   aa          #(X)\n",
    "   aa = None   #(O)\n",
    "```\n",
    "\n",
    "•기타 언어의 NULL 등과 같은 의미로 사용\n",
    "\n"
   ]
  },
  {
   "cell_type": "raw",
   "metadata": {
    "id": "Y8ROu6RWwZUT"
   },
   "source": [
    "aa = None\n",
    "print(aa)"
   ]
  },
  {
   "cell_type": "code",
   "execution_count": null,
   "metadata": {},
   "outputs": [],
   "source": []
  },
  {
   "cell_type": "raw",
   "metadata": {
    "id": "SUunweIh8k5c"
   },
   "source": [
    "aa=100\n",
    "print(aa)"
   ]
  },
  {
   "cell_type": "code",
   "execution_count": null,
   "metadata": {},
   "outputs": [],
   "source": []
  },
  {
   "cell_type": "markdown",
   "metadata": {
    "id": "x5p93VXgbHiz"
   },
   "source": [
    "#### [알아두기] **comment(주석)**\n",
    "  - 코드에서 #으로 시작하는 뒷 부분은 주석이라 함\n",
    "  - 개발자가 보기위해 써놓은 참고용 설명에 해당됨\n",
    "  - 파이썬이 소스코드를 실행하다가 #을 만나면 실행하지 않고 무시함\n",
    "  \n"
   ]
  },
  {
   "cell_type": "raw",
   "metadata": {},
   "source": [
    "a=10  # 정수  \n",
    "b=20.5 # 실수\n",
    "print(a+b) #출력"
   ]
  },
  {
   "cell_type": "code",
   "execution_count": null,
   "metadata": {},
   "outputs": [],
   "source": []
  },
  {
   "cell_type": "markdown",
   "metadata": {
    "id": "QkUU-8QhbHi0"
   },
   "source": [
    "#### [알아두기] **print 함수**\n",
    "  - 함수란 특정 기능을 반복적으로 호출하여 사용가능한 코드블럭\n",
    "  - 해당 변수의 값을 출력\n",
    "  - , 로 여러 변수를 나열하면 한줄에 출력\n",
    "  - 기본적으로는 한칸 띄어쓰기 후 출력"
   ]
  },
  {
   "cell_type": "raw",
   "metadata": {},
   "source": [
    "a=10\n",
    "b=20.5\n",
    "print(a,5,b)\n",
    "print(a+b, a-b)\n",
    "print(a*b, a+6)"
   ]
  },
  {
   "cell_type": "code",
   "execution_count": null,
   "metadata": {},
   "outputs": [],
   "source": []
  },
  {
   "cell_type": "markdown",
   "metadata": {
    "id": "ZBS2TRklbHi0"
   },
   "source": [
    "### (4) **변수 값 확인법**\n",
    " - 1) print() 함수 사용\n",
    "      \n",
    "      \n",
    " - 2) 소스코드의 맨 끝에 단순히 변수명을 적은 후 실행 -> 이 경우 output으로 변수의 값이 출력\n",
    " "
   ]
  },
  {
   "cell_type": "raw",
   "metadata": {},
   "source": [
    "print(a)\n",
    "a"
   ]
  },
  {
   "cell_type": "code",
   "execution_count": null,
   "metadata": {},
   "outputs": [],
   "source": []
  },
  {
   "cell_type": "markdown",
   "metadata": {
    "id": "GyNWkekfbHi1"
   },
   "source": [
    "### (5) **variable naming (변수명 생성 규칙)**\n",
    "\n",
    "파이썬의 변수명은 다음과 같은 규칙을 따른다. \n",
    "\n",
    "1.  변수명은 문자, 숫자, _ 밑줄로만 이루어진다.  그 외 특수 문자는 사용할 수 없다.\n",
    "\n",
    "2.  변수명의 첫글자는 문자 또는 밑줄로만 시작해야 한다.\n",
    "```\n",
    "aabbCC12 \n",
    "_aabbCC12\n",
    "_12345A\n",
    "A_B_C\n",
    "12abc   # (X)\n",
    "```\n"
   ]
  },
  {
   "cell_type": "raw",
   "metadata": {
    "id": "-3WbI_ai9-VM",
    "outputId": "90bf71d5-8461-4356-c9f2-7e38e17897b6"
   },
   "source": [
    "aabbCC12 = 10\n",
    "_aabbCC12 = 10\n",
    "_12345A = 10\n",
    "A_B_C = 10\n",
    "12abc  = 10"
   ]
  },
  {
   "cell_type": "code",
   "execution_count": null,
   "metadata": {},
   "outputs": [],
   "source": []
  },
  {
   "cell_type": "markdown",
   "metadata": {
    "id": "MW1sqNSn93vc"
   },
   "source": [
    "3.  파이썬 예약어(reserved keyword)는 사용할 수 없다.\n",
    "\n",
    "  - python에서 미리 선점하여 사용중인 키워드\n",
    "> False, None, True, and, as, assert, async, await, break, class, continue, def, del, elif, else, except, finally, for, from, global, if, import, in, is, lambda, nonlocal, not, or, pass, raise, return, try, while, with, yield\n",
    "\n",
    "  - 옳지 않은 예) \n",
    "```\n",
    "class = 100\n",
    "print (class)   \n",
    "```  \n",
    " "
   ]
  },
  {
   "cell_type": "raw",
   "metadata": {
    "id": "fEv2J8__-GbD",
    "outputId": "e6ceaa74-f7dd-4995-c2c2-1266a852e327"
   },
   "source": [
    "class = 100"
   ]
  },
  {
   "cell_type": "code",
   "execution_count": null,
   "metadata": {},
   "outputs": [],
   "source": []
  },
  {
   "cell_type": "markdown",
   "metadata": {
    "id": "AIXddFu4-Fb5"
   },
   "source": [
    "\n",
    "**Q) 만약 변수명으로 사용하고 싶다면?**\n",
    "\n",
    " A) 앞에 _를 붙인다!\n"
   ]
  },
  {
   "cell_type": "raw",
   "metadata": {
    "id": "v9ka4zB--TBc",
    "outputId": "576eb292-935a-447c-b300-c464abba6cf9"
   },
   "source": [
    "_class = 100\n",
    "print(_class)"
   ]
  },
  {
   "cell_type": "code",
   "execution_count": null,
   "metadata": {},
   "outputs": [],
   "source": []
  },
  {
   "cell_type": "markdown",
   "metadata": {
    "id": "f9jxjg3X-JYr"
   },
   "source": [
    "4.  파이썬은 대소문자를 구분한다. \n",
    "  *  True vs. true\n",
    "\n",
    "\n",
    "```\n",
    "a=True\n",
    "b=true\n",
    "```"
   ]
  },
  {
   "cell_type": "markdown",
   "metadata": {
    "id": "gqZhARpj-PlC"
   },
   "source": [
    "5.  예약어가 아니더라도 중요한 객체 명, 함수명 등은 변수명으로 사용하지 않도록 주의 한다.  (예: int, float, print 등)\n",
    "\n",
    "--------------------------------------------------\n",
    "[Tip]\n",
    "* 일반적으로 해당 변수를 표현하고자 하는 정확하고 간결한 이름을 사용하는 것이 좋음\n",
    "* 코드를 읽은 것을 더 쉽게 할 수 있음\n",
    "  * e.g) a = 20 보다 age = 20 으로 한 것이 이해가 빠름"
   ]
  },
  {
   "cell_type": "markdown",
   "metadata": {
    "id": "2cVIkOHlbHi1"
   },
   "source": [
    "* **invalid한 변수 이름의 예**\n",
    " - 9 = 4\n",
    " - print(9)    ??"
   ]
  },
  {
   "cell_type": "raw",
   "metadata": {
    "id": "rktNXUOsbHi1",
    "outputId": "b7e27107-bf41-4369-c4b4-63151240332d"
   },
   "source": [
    "_9=4\n",
    "print(_9)"
   ]
  },
  {
   "cell_type": "code",
   "execution_count": null,
   "metadata": {},
   "outputs": [],
   "source": []
  },
  {
   "attachments": {
    "image.png": {
     "image/png": "[encoded data removed]"
    }
   },
   "cell_type": "markdown",
   "metadata": {
    "id": "7YQGD5-lbHiw"
   },
   "source": [
    "## **계산식** \n",
    "(1) 연산자\n",
    "![image.png](attachment:image.png)"
   ]
  },
  {
   "cell_type": "markdown",
   "metadata": {
    "id": "jH-5PF04AtYf"
   },
   "source": [
    "**[실습]**\n",
    "**print함수를 이용해서 출력해보자**\n",
    "```\n",
    "print(34+42)\n",
    "print('ab'+'c')\n",
    "print(24.3-50.7)\n",
    "print(32*10)\n",
    "print('a'*3)\n",
    "print(5/2)\n",
    "print(5//2)\n",
    "print(5%2)\n",
    "print(2**3)\n",
    "```\n",
    "\n"
   ]
  },
  {
   "cell_type": "code",
   "execution_count": null,
   "metadata": {},
   "outputs": [],
   "source": []
  },
  {
   "cell_type": "markdown",
   "metadata": {
    "id": "valVksnLJnBK"
   },
   "source": [
    "**[참고]**  \n",
    "````\n",
    "# %를 이용한 소수점 출력 \n",
    "# % + .소수점 자리 + f + %(변수)\n",
    "\n",
    "a= 24.34-50.73 \n",
    "print('%.1f' %a)\n",
    "\n",
    "#2개 이상 출력\n",
    "b = 0.4\n",
    "print('%.1f와 %.1f' %(a,b))\n",
    "````"
   ]
  },
  {
   "cell_type": "raw",
   "metadata": {},
   "source": [
    "a=24.34+50.73\n",
    "print(a)"
   ]
  },
  {
   "cell_type": "raw",
   "metadata": {},
   "source": [
    "print('%.1f'%a)"
   ]
  },
  {
   "cell_type": "raw",
   "metadata": {},
   "source": [
    "a=24.34+50.73\n",
    "b=0.4\n",
    "print('%.1f 와 %.1f' %(a,b))"
   ]
  },
  {
   "cell_type": "markdown",
   "metadata": {
    "id": "MLLfY1B6uW2o"
   },
   "source": [
    "## **기본 데이터 타입 (자료형)** \n",
    "### (1) 기본 데이터 타입 종류  \n",
    "* 숫자형 데이터 타입 \n",
    "  *   **int**  정수 : 0,1,2,3, -1,-2\n",
    "  *   **float** 부동소수점 실수 : 1.1,  0.1,  .1 \n",
    "*   **bool** 타입 (진리값/불리언)  \n",
    "  * True, False\n",
    "* 문자형 데이터 타입\n",
    "  *   **str**  문자열 : '수업', '1.1', '0.1', \"1.1\"  (따옴표, 겹따옴표 모두 OK)\n",
    "\n"
   ]
  },
  {
   "cell_type": "markdown",
   "metadata": {
    "id": "D-wyzuoGBASc"
   },
   "source": [
    "\n",
    "## (2) 자료형을 확인하는 함수 type() \n",
    "-해당 변수나 값의 타입(type)을 알고자 할 때 사용\n",
    "- print()와 type()을 이용하여 아래 입력변수들을 출력해보자. \n",
    "\n",
    "**[실습]**\n",
    "\n",
    "```\n",
    "x1= 0\n",
    "x2= -1\n",
    "x3 = 0.8\n",
    "x4 = True\n",
    "x5 = '재밌는 수업시간'\n",
    "print(type(x1))\n",
    "print(type(x2))\n",
    "print(type(x3))\n",
    "print(type(x4))\n",
    "print(type(x5))\n",
    "```"
   ]
  },
  {
   "cell_type": "code",
   "execution_count": 28,
   "metadata": {
    "id": "3LvzXf4fbHi2",
    "scrolled": true
   },
   "outputs": [
    {
     "data": {
      "text/plain": [
       "int"
      ]
     },
     "execution_count": 28,
     "metadata": {},
     "output_type": "execute_result"
    }
   ],
   "source": [
    "x1= 0\n",
    "x2= -1\n",
    "x3 = 0.8\n",
    "x4 = True\n",
    "x5 = '재밌는 수업시간'\n",
    "type(x1)\n",
    "#다른 변수의 type도 확인해 보세요!"
   ]
  },
  {
   "cell_type": "code",
   "execution_count": null,
   "metadata": {},
   "outputs": [],
   "source": []
  },
  {
   "cell_type": "markdown",
   "metadata": {
    "id": "2vJNuP6SbHi2"
   },
   "source": [
    "## (3) **comparison operator(비교 연산자)**\n",
    "\n",
    "  - 프로그래밍에서는 비교를 할 경우, = 대신 **==**를 사용\n",
    "  - <, > (작다, 크다)\n",
    "  - <=, >= (작거나 같다, 크거나 같다)\n",
    "  - == 같다\n",
    "  - != 같지 않다\n",
    "  - 비교 연산자의 결과는 boolean 타입!! -> (참 또는 거짓)\n",
    "  \n",
    "**[실습]**\n",
    "\n",
    "```\n",
    "    - a=15   b=3\n",
    "    - print (a>b)    # True\n",
    "    - print (a<b)    # False\n",
    "    - print (a>=b)   # True\n",
    "    - print (a=<b)   # False\n",
    "    - print (a==b)   # False\n",
    "    - print (a!=b)   # True \n",
    "    \n",
    "    - c = a > b\n",
    "    - print (c)\n",
    "\n",
    "```\n"
   ]
  },
  {
   "cell_type": "raw",
   "metadata": {
    "id": "OgijnzsRbHi2"
   },
   "source": [
    "a=15\n",
    "b=3\n",
    "a>b"
   ]
  },
  {
   "cell_type": "code",
   "execution_count": null,
   "metadata": {},
   "outputs": [],
   "source": []
  },
  {
   "cell_type": "markdown",
   "metadata": {
    "id": "G094HGDLbHi3"
   },
   "source": [
    "## (4) **숫자형 타입(numbers)의 연산**\n",
    " - 정수, 실수는 숫자이므로 사칙연산 등 이 가능함\n",
    " \n",
    " \n",
    "**[실습]**\n",
    "\n",
    "```\n",
    "- a = 5\n",
    "- b = 4\n",
    "- print( a + b )\n",
    "- print( a - b )\n",
    "- print( a * b )\n",
    "- print( a / b )\n",
    "- print( a //  b )     # a 를 b로 나눈 나머지\n",
    "- print( a ** b )    # a 의 b 승 (지수승)\n",
    "\n",
    "```"
   ]
  },
  {
   "cell_type": "raw",
   "metadata": {
    "id": "FYfQoyBAbHi3"
   },
   "source": [
    "a=5\n",
    "b=4\n",
    "a//b"
   ]
  },
  {
   "cell_type": "markdown",
   "metadata": {
    "id": "5dlVv1KubHi3"
   },
   "source": [
    "## (5) **operator priorities (연산자 우선순위)**\n",
    "  - 기본적인 수학의 연산자와 동일\n",
    "  - 강제로 연산을 먼저하기 위해서는 괄호()를 사용\n",
    "\n",
    "**[실습]**\n",
    "\n",
    "```\n",
    "- a = 5\n",
    "- b = 4\n",
    "- a + b * 4\n",
    "- (a + b) * 4\n",
    "\n",
    "```"
   ]
  },
  {
   "cell_type": "code",
   "execution_count": null,
   "metadata": {
    "id": "jpCGpZFRbHi3"
   },
   "outputs": [],
   "source": []
  },
  {
   "cell_type": "markdown",
   "metadata": {
    "id": "EkDcjRT4_gqt"
   },
   "source": [
    "**연산자 우선순위**\n",
    "\n",
    "- 주요 연산자의 우선순위는 다음과 같이 적용된다. (일반적인 수학에서의 정의와 동일하다). \n",
    "- 필요시 괄호를 이용해서 명확하게 우선순위를 지정한다.\n",
    "\n",
    "\n",
    "![image.png](data:image/png;base64,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)\n"
   ]
  },
  {
   "cell_type": "markdown",
   "metadata": {
    "id": "Ibx_PnnAbHi3"
   },
   "source": [
    "\n",
    "## **[퀴즈]**  \n",
    "\n",
    "```\n",
    "a = 9\n",
    "print(a)\n",
    "print(a - 3)\n",
    "print(a)\n",
    "\n",
    "마지막 결과 값은 무엇일까요? \n",
    "```"
   ]
  },
  {
   "cell_type": "code",
   "execution_count": null,
   "metadata": {
    "id": "_9iBqbeyCHw7",
    "outputId": "4b9fae35-0024-4e38-abd8-8e17f7ce9db8"
   },
   "outputs": [],
   "source": []
  },
  {
   "cell_type": "markdown",
   "metadata": {
    "id": "VVvHOqOEbHi3"
   },
   "source": [
    "#### **변수값의 변경은 \"=\"를 사용하여 대입이 발생하는 경우에만 발생함!**\n",
    "- 그렇다면 실제로 실제로 a값에서 3을 빼서 a를 9에서 6으로 변경하고 싶다면????"
   ]
  },
  {
   "cell_type": "code",
   "execution_count": null,
   "metadata": {
    "id": "vPufjFYabGuJ"
   },
   "outputs": [],
   "source": []
  },
  {
   "cell_type": "raw",
   "metadata": {},
   "source": [
    "a=9\n",
    "a -= 3               #a=a-3\n",
    "a"
   ]
  },
  {
   "cell_type": "raw",
   "metadata": {},
   "source": [
    "a=9\n",
    "a *= 3               #a=a*3\n",
    "a"
   ]
  }
 ],
 "metadata": {
  "colab": {
   "collapsed_sections": [],
   "provenance": [
    {
     "file_id": "18vDYzfYEbZhsPJwzvmQGFux7lE6x1hGy",
     "timestamp": 1648043089923
    }
   ],
   "toc_visible": true
  },
  "kernelspec": {
   "display_name": "Python 3",
   "language": "python",
   "name": "python3"
  },
  "language_info": {
   "codemirror_mode": {
    "name": "ipython",
    "version": 3
   },
   "file_extension": ".py",
   "mimetype": "text/x-python",
   "name": "python",
   "nbconvert_exporter": "python",
   "pygments_lexer": "ipython3",
   "version": "3.7.4"
  }
 },
 "nbformat": 4,
 "nbformat_minor": 1
}
