{
 "cells": [
  {
   "cell_type": "markdown",
   "metadata": {
    "id": "Vv58zLCEha63"
   },
   "source": [
    "# **딕셔너리 (dictionary, dict)** \n",
    " + 중괄호 {  } 를 이용하여 생성\n",
    " + 키(key) : 값(value)    형태의 구조\n",
    " + 예) 나라이름 : 수도이름\n",
    " + 순서를 따지지 않음. 즉, 인덱스가 없음"
   ]
  },
  {
   "cell_type": "markdown",
   "metadata": {
    "id": "4azjDHibmnz0"
   },
   "source": [
    "### (1) 기본 사용"
   ]
  },
  {
   "cell_type": "raw",
   "metadata": {
    "id": "gcrjEEulha64"
   },
   "source": [
    "a = {'Korea': 'Seoul', \n",
    "     'Canada': 'Ottawa', \n",
    "     'USA': 'Washington D.C'} \n",
    "type(a)"
   ]
  },
  {
   "cell_type": "code",
   "execution_count": 1,
   "metadata": {},
   "outputs": [],
   "source": [
    "a = {'Korea': 'Seoul', \n",
    "     'USA': 'Washington D.C',\n",
    "     'Canada': 'Ottawa'} \n"
   ]
  },
  {
   "cell_type": "raw",
   "metadata": {
    "id": "yQofPtAtha65"
   },
   "source": [
    "# 인덱스 대신에 키(key)를 이용하여 그에 대응하는 값(value)을 가져옴\n",
    "\n",
    "a['Korea']"
   ]
  },
  {
   "cell_type": "code",
   "execution_count": null,
   "metadata": {},
   "outputs": [],
   "source": []
  },
  {
   "cell_type": "raw",
   "metadata": {
    "id": "ptMTI_hRha66"
   },
   "source": [
    "# 반대로 값(value)을 이용하여 그에 대응하는 키(key)를 가져올 수는 없음. 에러남!\n",
    "\n",
    "a['Seoul']"
   ]
  },
  {
   "cell_type": "code",
   "execution_count": null,
   "metadata": {},
   "outputs": [],
   "source": []
  },
  {
   "cell_type": "raw",
   "metadata": {
    "id": "rvf_Ot2lha66"
   },
   "source": [
    "b = {0:1, 1:6, 7:9, 8:10}\n",
    "b[7]                  #이때의 7은 인덱스가 아니라 키임!"
   ]
  },
  {
   "cell_type": "code",
   "execution_count": 7,
   "metadata": {},
   "outputs": [],
   "source": [
    "b = {0:1, 1:6, 7:9, 8:10}\n"
   ]
  },
  {
   "cell_type": "code",
   "execution_count": null,
   "metadata": {
    "id": "dlzvFwEaha67"
   },
   "outputs": [],
   "source": [
    "b[2]                   #2는 키에 없으니까 에러남"
   ]
  },
  {
   "cell_type": "markdown",
   "metadata": {
    "id": "olCTozhtha67"
   },
   "source": [
    "+ **항목 추가 및 변경**\n",
    " - 기존에 '키'가 존재 하면, 새로운 '값'으로 업데이트\n",
    " - 존재하지 않으면, 새로운 '키'와 '값'을 생성"
   ]
  },
  {
   "cell_type": "raw",
   "metadata": {
    "id": "vSvIYyZ4ha68"
   },
   "source": [
    "a = {'Korea': 'Seoul', \n",
    "     'Canada': 'Ottawa', \n",
    "     'USA': 'Washington D.C'}\n",
    "\n",
    "a['Japan'] = 'Tokyo'\n",
    "a['Japan'] = 'Kyoto'\n",
    "a['Japan2'] = 'Kyoto'\n",
    "a['China'] = 'Beijing'\n",
    "\n",
    "a"
   ]
  },
  {
   "cell_type": "code",
   "execution_count": 11,
   "metadata": {},
   "outputs": [],
   "source": [
    "a = {'Korea': 'Seoul', \n",
    "     'Canada': 'Ottawa', \n",
    "     'USA': 'Washington D.C'}\n"
   ]
  },
  {
   "cell_type": "code",
   "execution_count": 10,
   "metadata": {},
   "outputs": [
    {
     "data": {
      "text/plain": [
       "{'Korea': 'Seoul',\n",
       " 'Canada': 'Ottawa',\n",
       " 'USA': 'Washington D.C',\n",
       " 'Japan': 'Kyoto',\n",
       " 'Japan2': 'Kyoto',\n",
       " 'China': 'Beijing'}"
      ]
     },
     "execution_count": 10,
     "metadata": {},
     "output_type": "execute_result"
    }
   ],
   "source": [
    "a"
   ]
  },
  {
   "cell_type": "markdown",
   "metadata": {
    "id": "7cpe7sDSha68"
   },
   "source": [
    "### (2) 딕셔너리(dict)의 멤버 함수\n",
    " - 생성된 딕셔너리에 내장되어 사용할 수 있는 함수  \n",
    " - a.을 치고 *Tab키*를 눌러보면 멤버함수를 확인할 수 있음 "
   ]
  },
  {
   "cell_type": "raw",
   "metadata": {
    "id": "bAObB1iaha69"
   },
   "source": [
    "a.                               #Tab을 입력해서 멤버함수를 확인해 보자!"
   ]
  },
  {
   "cell_type": "code",
   "execution_count": null,
   "metadata": {},
   "outputs": [],
   "source": []
  },
  {
   "cell_type": "markdown",
   "metadata": {
    "id": "_VSjweHuha69"
   },
   "source": [
    "+ **update()**\n",
    " * 두 딕셔너리를 병합함\n",
    " * 겹치는 키가 있다면 parameter로 전달되는 키 값이 overwrite된다."
   ]
  },
  {
   "cell_type": "raw",
   "metadata": {
    "id": "yeM4Yykeha6-"
   },
   "source": [
    "a = {'a': 1, 'b': 2, 'c' : 3}\n",
    "b = {'a': 2, 'd': 4, 'e': 5}\n",
    "\n",
    "a.update(b)\n",
    "a\n",
    "\n",
    "b.update(a)\n",
    "b"
   ]
  },
  {
   "cell_type": "code",
   "execution_count": 17,
   "metadata": {},
   "outputs": [],
   "source": [
    "a = {'a': 1, 'b': 2, 'c' : 3}\n",
    "b = {'a': 2, 'd': 4, 'e': 5}\n"
   ]
  },
  {
   "cell_type": "code",
   "execution_count": 16,
   "metadata": {},
   "outputs": [],
   "source": [
    "a = {'a': 1, 'b': 2, 'c' : 3}\n",
    "b = {'a': 2, 'd': 4, 'e': 5}\n"
   ]
  },
  {
   "cell_type": "markdown",
   "metadata": {
    "id": "Kbq2skJLha6-"
   },
   "source": [
    "+ **pop()**\n",
    " - key를 찾아서 key:value 쌍을 삭제함\n",
    " - del 키워드를 사용해도 됨 "
   ]
  },
  {
   "cell_type": "raw",
   "metadata": {
    "id": "XtF5dl5vha6-"
   },
   "source": [
    "a = {'a': 1, 'b': 2, 'c' : 3}\n",
    "a.pop('b')   #pop함수에서도 key를 이용하여 삭제함!\n",
    "a"
   ]
  },
  {
   "cell_type": "code",
   "execution_count": 19,
   "metadata": {},
   "outputs": [],
   "source": [
    "a = {'a': 1, 'b': 2, 'c' : 3}\n"
   ]
  },
  {
   "cell_type": "raw",
   "metadata": {
    "id": "PPnERdB_ha6_"
   },
   "source": [
    "# del 키워드를 이용한 삭제\n",
    "\n",
    "a = {'a': 1, 'b': 2, 'c' : 3}\n",
    "print(a)\n",
    "\n",
    "del a['b']   # del 키워드에서도 key를 이용하여 삭제함!\n",
    "a"
   ]
  },
  {
   "cell_type": "code",
   "execution_count": 21,
   "metadata": {},
   "outputs": [],
   "source": [
    "a = {'a': 1, 'b': 2, 'c' : 3}\n"
   ]
  },
  {
   "cell_type": "markdown",
   "metadata": {
    "id": "QKwMzQIukv25"
   },
   "source": [
    "- keys()\n",
    "  - key만 뽑아내기 "
   ]
  },
  {
   "cell_type": "raw",
   "metadata": {
    "id": "sZTmy9QfkzYZ"
   },
   "source": [
    "a = {'Korea': 'Seoul', \n",
    "     'Canada': 'Ottawa', \n",
    "     'USA': 'Washington D.C'}\n",
    "a.keys()"
   ]
  },
  {
   "cell_type": "code",
   "execution_count": 28,
   "metadata": {},
   "outputs": [],
   "source": [
    "a = {'Korea': 'Seoul', \n",
    "     'Canada': 'Ottawa', \n",
    "     'USA': 'Washington D.C'}\n"
   ]
  },
  {
   "cell_type": "raw",
   "metadata": {},
   "source": [
    "#key만으로 이루어진 리스트 만들기 \n",
    "a_key_list=list(a.keys())\n",
    "a_key_list"
   ]
  },
  {
   "cell_type": "code",
   "execution_count": null,
   "metadata": {},
   "outputs": [],
   "source": []
  },
  {
   "cell_type": "raw",
   "metadata": {},
   "source": [
    "#특정항목 인텍싱\n",
    "a_key_list[1]"
   ]
  },
  {
   "cell_type": "code",
   "execution_count": null,
   "metadata": {},
   "outputs": [],
   "source": []
  },
  {
   "cell_type": "markdown",
   "metadata": {
    "id": "axLspXwmlYUt"
   },
   "source": [
    "- values()\n",
    "  - vlaue만 뽑아내기 \n"
   ]
  },
  {
   "cell_type": "raw",
   "metadata": {
    "id": "jvlu1L3clde9"
   },
   "source": [
    " a.values()"
   ]
  },
  {
   "cell_type": "code",
   "execution_count": null,
   "metadata": {
    "scrolled": true
   },
   "outputs": [],
   "source": []
  },
  {
   "cell_type": "raw",
   "metadata": {
    "id": "Ez3kweqhl6WM"
   },
   "source": [
    "#value로만 이루어진 리스트 만들기 \n",
    "a_value_list = list(a.values())\n",
    "a_value_list"
   ]
  },
  {
   "cell_type": "code",
   "execution_count": null,
   "metadata": {},
   "outputs": [],
   "source": []
  },
  {
   "cell_type": "markdown",
   "metadata": {
    "id": "huyw0BQEmN3q"
   },
   "source": [
    "- key, value쌍 구하기 \n",
    " - items() - 키와 값의 쌍을 (튜플형태로) 반환"
   ]
  },
  {
   "cell_type": "raw",
   "metadata": {
    "id": "oGHtYi_OmRi5"
   },
   "source": [
    "a.items()"
   ]
  },
  {
   "cell_type": "code",
   "execution_count": 26,
   "metadata": {
    "scrolled": true
   },
   "outputs": [
    {
     "data": {
      "text/plain": [
       "dict_items([('Korea', 'Seoul'), ('Canada', 'Ottawa'), ('USA', 'Washington D.C')])"
      ]
     },
     "execution_count": 26,
     "metadata": {},
     "output_type": "execute_result"
    }
   ],
   "source": [
    "a.items()"
   ]
  },
  {
   "cell_type": "code",
   "execution_count": 30,
   "metadata": {},
   "outputs": [],
   "source": [
    "#리스트로 만들려면?\n"
   ]
  },
  {
   "cell_type": "markdown",
   "metadata": {
    "id": "e9yiSgGMha6_"
   },
   "source": [
    "* **clear()**\n",
    " + 딕셔너리의 모든 값을 초기화\n"
   ]
  },
  {
   "cell_type": "raw",
   "metadata": {
    "id": "uIm8hYq0ha6_"
   },
   "source": [
    "print(a)\n",
    "a.clear()\n",
    "print(a)"
   ]
  },
  {
   "cell_type": "code",
   "execution_count": null,
   "metadata": {},
   "outputs": [],
   "source": []
  },
  {
   "cell_type": "markdown",
   "metadata": {
    "id": "pnAFlP5Yha7A"
   },
   "source": [
    "* **get()**\n",
    " + 딕셔너리(dict)에서 값을 얻으내는 함수 (value access): .get(key)\n",
    " + get() 함수는 키가 없는 경우 에러는 나지 않고 None을 반환함\n",
    " + dict[key]로도 값을 얻을 수 있음 (단, 키가 없는 경우 에러가 발생함)"
   ]
  },
  {
   "cell_type": "raw",
   "metadata": {
    "id": "H9ESCeeDha7A"
   },
   "source": [
    "a = {'a': 1, 'b': 2, 'c' : 3}\n",
    "print(a.get('a'))\n",
    "print(a.get('d'))"
   ]
  },
  {
   "cell_type": "code",
   "execution_count": 32,
   "metadata": {},
   "outputs": [],
   "source": [
    "a = {'a': 1, 'b': 2, 'c' : 3}\n"
   ]
  },
  {
   "cell_type": "raw",
   "metadata": {
    "id": "TpAySdaFha7B"
   },
   "source": [
    " 만약  dict[key]로 access 한다면???"
   ]
  },
  {
   "cell_type": "code",
   "execution_count": null,
   "metadata": {},
   "outputs": [],
   "source": [
    "a['c']    # 해당 key가 있는 경우 - 에러 안남!"
   ]
  },
  {
   "cell_type": "code",
   "execution_count": null,
   "metadata": {
    "id": "cuwqvqQuha7B"
   },
   "outputs": [],
   "source": [
    "a['d']     #해당 key가 없는 경우 - 에러남"
   ]
  },
  {
   "cell_type": "markdown",
   "metadata": {
    "id": "ERNONHTbmdin"
   },
   "source": [
    "## **[참고] 집합 자료형(set)**\n",
    "- 대괄호{ } 안에 key만 가지고 있는 형태\n",
    "- 수학의 집합을 구현한 자료형\n",
    "- 중복없이 유일해야 하고 원소들이 순서를 가지지않음. 즉, 인덱스를 사용할 수 없음 \n",
    "- 리스트나 문자열에 set()함수를 사용하면 집합자료형 만들 수 있음 "
   ]
  },
  {
   "cell_type": "raw",
   "metadata": {
    "id": "jgPPT-RYnHq6"
   },
   "source": [
    "#집합 만들기\n",
    "s1={1,2,3,4}\n",
    "#타입보기 \n",
    "type(s1)"
   ]
  },
  {
   "cell_type": "code",
   "execution_count": 37,
   "metadata": {},
   "outputs": [],
   "source": [
    "s1={1,2,3,4}\n"
   ]
  },
  {
   "cell_type": "raw",
   "metadata": {
    "id": "DOPBABGfngUQ"
   },
   "source": [
    "#리스트를 집합으로 만들기 \n",
    "#중복된 값은 사라짐 \n",
    "\n",
    "a=[1,2,3,5,2] \n",
    "s2 = set(a)\n",
    "s2"
   ]
  },
  {
   "cell_type": "code",
   "execution_count": 37,
   "metadata": {},
   "outputs": [],
   "source": [
    "a=[1,2,3,5,2] \n"
   ]
  },
  {
   "cell_type": "markdown",
   "metadata": {
    "id": "hCYyCOxiha6_"
   },
   "source": [
    "* **in 키워드**\n",
    " + key값 존재 확인"
   ]
  },
  {
   "cell_type": "raw",
   "metadata": {
    "id": "Q1GlxGboha6_"
   },
   "source": [
    "a = {'a':1, 'b':2, 'c':3}     #딕셔너리\n",
    "b = {1, 2, 3, 4, 5, 6, 7, 9, 10, 100} #집합 \n",
    "\n",
    "print (100 in b)\n",
    "print (2 in a)\n",
    "print ('c' in a)    #key에 해당하는 'b'는 문자이므로 이렇게 반드시 작은 따옴표를 붙여야 함!"
   ]
  },
  {
   "cell_type": "code",
   "execution_count": 39,
   "metadata": {},
   "outputs": [],
   "source": [
    "a = {'a':1, 'b':2, 'c':3}     #딕셔너리\n",
    "b = {1, 2, 3, 4, 5, 6, 7, 9, 10, 100} #집합 \n"
   ]
  },
  {
   "cell_type": "raw",
   "metadata": {
    "id": "1YD5pa4Yha7A"
   },
   "source": [
    "print(c in a)       # 이렇게 작은따옴표를 안 붙이면 에러가 남!"
   ]
  },
  {
   "cell_type": "code",
   "execution_count": null,
   "metadata": {},
   "outputs": [],
   "source": []
  },
  {
   "cell_type": "markdown",
   "metadata": {
    "id": "hlPffCckha7C"
   },
   "source": [
    "* **list를 set으로 변환**"
   ]
  },
  {
   "cell_type": "raw",
   "metadata": {
    "id": "HZOYcmNaha7D"
   },
   "source": [
    "a = [1, 1, 2, 3, 3, 4, 1, 5]\n",
    "b = set(a)\n",
    "b"
   ]
  },
  {
   "cell_type": "code",
   "execution_count": 44,
   "metadata": {},
   "outputs": [],
   "source": [
    "a = [1, 1, 2, 3, 3, 4, 1, 5]\n"
   ]
  },
  {
   "cell_type": "markdown",
   "metadata": {
    "id": "TavCczgnha7D"
   },
   "source": [
    "+ **set operations**\n",
    " - 수학 연산과 동일\n",
    " - 교집합, 합집합, 차집합 등 지원"
   ]
  },
  {
   "cell_type": "raw",
   "metadata": {
    "id": "jUQZEP43ha7D"
   },
   "source": [
    "a = {1, 2, 3}\n",
    "b = {2, 3, 4}\n",
    "\n",
    "print(a.union(b)) # 합집합\n",
    "print(a.intersection(b)) # 교집합\n",
    "print(a.difference(b)) # 차집합\n",
    "print(a.issubset(b)) #부분 집합"
   ]
  },
  {
   "cell_type": "code",
   "execution_count": 57,
   "metadata": {},
   "outputs": [],
   "source": [
    "a = {1, 2, 3}\n",
    "b = {2, 3}"
   ]
  },
  {
   "cell_type": "code",
   "execution_count": null,
   "metadata": {},
   "outputs": [],
   "source": [
    "#합집합\n"
   ]
  },
  {
   "cell_type": "code",
   "execution_count": null,
   "metadata": {},
   "outputs": [],
   "source": [
    "#교집합\n"
   ]
  },
  {
   "cell_type": "code",
   "execution_count": null,
   "metadata": {},
   "outputs": [],
   "source": [
    "#차집합\n"
   ]
  },
  {
   "cell_type": "code",
   "execution_count": null,
   "metadata": {},
   "outputs": [],
   "source": [
    "#부분집합\n"
   ]
  }
 ],
 "metadata": {
  "colab": {
   "collapsed_sections": [],
   "name": "Day2_1 (4) 딕셔너리.ipynb",
   "provenance": [],
   "toc_visible": true
  },
  "kernelspec": {
   "display_name": "Python 3",
   "language": "python",
   "name": "python3"
  },
  "language_info": {
   "codemirror_mode": {
    "name": "ipython",
    "version": 3
   },
   "file_extension": ".py",
   "mimetype": "text/x-python",
   "name": "python",
   "nbconvert_exporter": "python",
   "pygments_lexer": "ipython3",
   "version": "3.7.4"
  }
 },
 "nbformat": 4,
 "nbformat_minor": 1
}
